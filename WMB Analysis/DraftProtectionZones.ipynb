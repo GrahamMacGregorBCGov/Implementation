{
 "cells": [
  {
   "cell_type": "code",
   "execution_count": 80,
   "metadata": {},
   "outputs": [
    {
     "data": {
      "text/plain": [
       "['FID_DraftZones_Group1_1ha_HV1_Dissolved_2025_01_28',\n",
       " 'Zone',\n",
       " 'HVArea',\n",
       " 'Area_ha',\n",
       " 'OWN',\n",
       " 'SCHEDULE',\n",
       " 'OWNERSHIP_DESCRIPTION',\n",
       " 'DATA_SOURCE',\n",
       " 'FCODE',\n",
       " 'FEATURE_AREA_SQM',\n",
       " 'FID_F_OWN',\n",
       " 'Shape_Length',\n",
       " 'Shape_Area',\n",
       " 'geometry']"
      ]
     },
     "execution_count": 80,
     "metadata": {},
     "output_type": "execute_result"
    }
   ],
   "source": [
    "import geopandas as gpd\n",
    "import pandas as pd\n",
    "gdb = r'\\\\spatialfiles.bcgov\\work\\srm\\fsj\\Workarea\\nross\\WMBPlanning\\Data\\2025-01-28_ConfidentialDraftZones\\DraftProtectionZonesAnalysis.gdb'\n",
    "\n",
    "gdf = gpd.read_file(gdb, layer='Group1_protection_Crwn_Union')\n",
    "list(gdf.columns)"
   ]
  },
  {
   "cell_type": "code",
   "execution_count": 81,
   "metadata": {},
   "outputs": [],
   "source": [
    "gdf.loc[gdf['OWN'] > 0, 'Crown'] = 'Crown'\n",
    "gdf.loc[gdf['OWN'] == 0, 'Crown'] = 'Private'\n",
    "gdf[\"Area_ha\"] = gdf.area / 10000"
   ]
  },
  {
   "cell_type": "code",
   "execution_count": 82,
   "metadata": {},
   "outputs": [],
   "source": [
    "# out = pd.pivot_table(gdf, index=['HVArea'], columns=['Crown', 'Zone'], values=\"Area_ha\", aggfunc=\"sum\")\n",
    "out = pd.pivot_table(gdf, index=['HVArea'], columns='Crown', values=\"Area_ha\", aggfunc=\"sum\")"
   ]
  },
  {
   "cell_type": "code",
   "execution_count": 83,
   "metadata": {},
   "outputs": [
    {
     "data": {
      "text/html": [
       "<div>\n",
       "<style scoped>\n",
       "    .dataframe tbody tr th:only-of-type {\n",
       "        vertical-align: middle;\n",
       "    }\n",
       "\n",
       "    .dataframe tbody tr th {\n",
       "        vertical-align: top;\n",
       "    }\n",
       "\n",
       "    .dataframe thead th {\n",
       "        text-align: right;\n",
       "    }\n",
       "</style>\n",
       "<table border=\"1\" class=\"dataframe\">\n",
       "  <thead>\n",
       "    <tr style=\"text-align: right;\">\n",
       "      <th>Crown</th>\n",
       "      <th>Crown</th>\n",
       "      <th>Private</th>\n",
       "    </tr>\n",
       "    <tr>\n",
       "      <th>HVArea</th>\n",
       "      <th></th>\n",
       "      <th></th>\n",
       "    </tr>\n",
       "  </thead>\n",
       "  <tbody>\n",
       "    <tr>\n",
       "      <th>Dancing Ground HV1C</th>\n",
       "      <td>791.604439</td>\n",
       "      <td>NaN</td>\n",
       "    </tr>\n",
       "    <tr>\n",
       "      <th>Grizzly Creek North HV1C</th>\n",
       "      <td>5325.280697</td>\n",
       "      <td>77.940595</td>\n",
       "    </tr>\n",
       "    <tr>\n",
       "      <th>Grizzly Creek South HV1C</th>\n",
       "      <td>7565.340724</td>\n",
       "      <td>1873.876925</td>\n",
       "    </tr>\n",
       "    <tr>\n",
       "      <th>Inga Lake HV1B</th>\n",
       "      <td>2925.590249</td>\n",
       "      <td>237.163066</td>\n",
       "    </tr>\n",
       "    <tr>\n",
       "      <th>Mile 27 Down HV1B</th>\n",
       "      <td>4093.333090</td>\n",
       "      <td>NaN</td>\n",
       "    </tr>\n",
       "    <tr>\n",
       "      <th>North Aitken HV1B</th>\n",
       "      <td>10622.839108</td>\n",
       "      <td>NaN</td>\n",
       "    </tr>\n",
       "    <tr>\n",
       "      <th>Wolf Davis Trapping NorthWest HV1B</th>\n",
       "      <td>3033.557592</td>\n",
       "      <td>NaN</td>\n",
       "    </tr>\n",
       "    <tr>\n",
       "      <th>Wolf Davis Trapping SouthEast HV1B</th>\n",
       "      <td>13837.201024</td>\n",
       "      <td>48.405782</td>\n",
       "    </tr>\n",
       "    <tr>\n",
       "      <th>Yahey Family2 HV1B</th>\n",
       "      <td>4012.937740</td>\n",
       "      <td>56.839376</td>\n",
       "    </tr>\n",
       "  </tbody>\n",
       "</table>\n",
       "</div>"
      ],
      "text/plain": [
       "Crown                                      Crown      Private\n",
       "HVArea                                                       \n",
       "Dancing Ground HV1C                   791.604439          NaN\n",
       "Grizzly Creek North HV1C             5325.280697    77.940595\n",
       "Grizzly Creek South HV1C             7565.340724  1873.876925\n",
       "Inga Lake HV1B                       2925.590249   237.163066\n",
       "Mile 27 Down HV1B                    4093.333090          NaN\n",
       "North Aitken HV1B                   10622.839108          NaN\n",
       "Wolf Davis Trapping NorthWest HV1B   3033.557592          NaN\n",
       "Wolf Davis Trapping SouthEast HV1B  13837.201024    48.405782\n",
       "Yahey Family2 HV1B                   4012.937740    56.839376"
      ]
     },
     "execution_count": 83,
     "metadata": {},
     "output_type": "execute_result"
    }
   ],
   "source": [
    "list(out.columns)\n",
    "out"
   ]
  },
  {
   "cell_type": "code",
   "execution_count": 74,
   "metadata": {},
   "outputs": [
    {
     "data": {
      "text/html": [
       "<div>\n",
       "<style scoped>\n",
       "    .dataframe tbody tr th:only-of-type {\n",
       "        vertical-align: middle;\n",
       "    }\n",
       "\n",
       "    .dataframe tbody tr th {\n",
       "        vertical-align: top;\n",
       "    }\n",
       "\n",
       "    .dataframe thead tr th {\n",
       "        text-align: left;\n",
       "    }\n",
       "\n",
       "    .dataframe thead tr:last-of-type th {\n",
       "        text-align: right;\n",
       "    }\n",
       "</style>\n",
       "<table border=\"1\" class=\"dataframe\">\n",
       "  <thead>\n",
       "    <tr>\n",
       "      <th>Crown</th>\n",
       "      <th colspan=\"2\" halign=\"left\">Crown</th>\n",
       "      <th colspan=\"2\" halign=\"left\">Private</th>\n",
       "      <th>Protection / Crown</th>\n",
       "      <th>% Private</th>\n",
       "    </tr>\n",
       "    <tr>\n",
       "      <th>Zone</th>\n",
       "      <th>Development</th>\n",
       "      <th>Protection</th>\n",
       "      <th>Development</th>\n",
       "      <th>Protection</th>\n",
       "      <th></th>\n",
       "      <th></th>\n",
       "    </tr>\n",
       "    <tr>\n",
       "      <th>HVArea</th>\n",
       "      <th></th>\n",
       "      <th></th>\n",
       "      <th></th>\n",
       "      <th></th>\n",
       "      <th></th>\n",
       "      <th></th>\n",
       "    </tr>\n",
       "  </thead>\n",
       "  <tbody>\n",
       "    <tr>\n",
       "      <th>Blair Creek HV1B</th>\n",
       "      <td>1528.647308</td>\n",
       "      <td>6113.974662</td>\n",
       "      <td>99.278586</td>\n",
       "      <td>30.967895</td>\n",
       "      <td>0.799984</td>\n",
       "      <td>0.016757</td>\n",
       "    </tr>\n",
       "    <tr>\n",
       "      <th>Cameron Headwaters HV1B</th>\n",
       "      <td>2682.715551</td>\n",
       "      <td>10730.634981</td>\n",
       "      <td>782.913632</td>\n",
       "      <td>128.583442</td>\n",
       "      <td>0.799997</td>\n",
       "      <td>0.063630</td>\n",
       "    </tr>\n",
       "    <tr>\n",
       "      <th>Pink Mountain - East HV1C</th>\n",
       "      <td>6052.228641</td>\n",
       "      <td>11788.904920</td>\n",
       "      <td>560.465591</td>\n",
       "      <td>182.766646</td>\n",
       "      <td>0.660771</td>\n",
       "      <td>0.039992</td>\n",
       "    </tr>\n",
       "  </tbody>\n",
       "</table>\n",
       "</div>"
      ],
      "text/plain": [
       "Crown                            Crown                   Private              \\\n",
       "Zone                       Development    Protection Development  Protection   \n",
       "HVArea                                                                         \n",
       "Blair Creek HV1B           1528.647308   6113.974662   99.278586   30.967895   \n",
       "Cameron Headwaters HV1B    2682.715551  10730.634981  782.913632  128.583442   \n",
       "Pink Mountain - East HV1C  6052.228641  11788.904920  560.465591  182.766646   \n",
       "\n",
       "Crown                     Protection / Crown % Private  \n",
       "Zone                                                    \n",
       "HVArea                                                  \n",
       "Blair Creek HV1B                    0.799984  0.016757  \n",
       "Cameron Headwaters HV1B             0.799997  0.063630  \n",
       "Pink Mountain - East HV1C           0.660771  0.039992  "
      ]
     },
     "execution_count": 74,
     "metadata": {},
     "output_type": "execute_result"
    }
   ],
   "source": [
    "out = out.fillna(0)\n",
    "out['Protection / Crown'] = (out['Crown']['Protection']) / (out['Crown']['Protection'] + out['Crown']['Development'])\n",
    "out['% Private'] = (out['Private']['Protection'] + out['Private']['Development']) / (out['Private']['Protection'] + out['Private']['Development'] + out['Crown']['Development'] + out['Crown']['Protection'])\n",
    "out"
   ]
  }
 ],
 "metadata": {
  "kernelspec": {
   "display_name": "base",
   "language": "python",
   "name": "python3"
  },
  "language_info": {
   "codemirror_mode": {
    "name": "ipython",
    "version": 3
   },
   "file_extension": ".py",
   "mimetype": "text/x-python",
   "name": "python",
   "nbconvert_exporter": "python",
   "pygments_lexer": "ipython3",
   "version": "3.11.7"
  }
 },
 "nbformat": 4,
 "nbformat_minor": 2
}
