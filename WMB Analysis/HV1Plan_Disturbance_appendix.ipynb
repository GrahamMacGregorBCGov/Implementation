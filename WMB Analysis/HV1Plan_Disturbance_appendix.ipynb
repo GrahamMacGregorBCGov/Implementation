{
 "cells": [
  {
   "cell_type": "markdown",
   "metadata": {},
   "source": []
  },
  {
   "cell_type": "code",
   "execution_count": 65,
   "metadata": {},
   "outputs": [],
   "source": [
    "import geopandas as gpd\n",
    "from shapely import difference\n",
    "import os"
   ]
  },
  {
   "cell_type": "code",
   "execution_count": 36,
   "metadata": {},
   "outputs": [
    {
     "name": "stderr",
     "output_type": "stream",
     "text": [
      "c:\\Users\\nross\\AppData\\Local\\anaconda3\\envs\\geo_env\\Lib\\site-packages\\pyogrio\\raw.py:198: UserWarning: Measured (M) geometry types are not supported. Original type 'Measured 3D MultiPolygon' is converted to 'MultiPolygon Z'\n",
      "  return ogr_read(\n"
     ]
    }
   ],
   "source": [
    "brfn_gdb = r'\\\\spatialfiles.bcgov\\work\\srm\\nr\\NEGSS\\NEDD\\First_Nations_Agreements\\BRFN_Implementation_Agreement\\FileGeodatabase\\BRFNAgreement.gdb'\n",
    "gdb = r'\\\\spatialfiles.bcgov\\work\\srm\\fsj\\Workarea\\nross\\WMBPlanning\\Data\\Disturbance\\HV1_Disturbance_Analysis.gdb'\n",
    "\n",
    "hv1 = gpd.read_file(brfn_gdb, layer = 'BRFN_HV1')\n",
    "hv1_plan = hv1[ hv1['OBJECTID'].isin([19, 23, 29, 36, 4, 32, 18, 2, 27, 35, 3, 9]) ]\n",
    "\n",
    "w2w = gpd.read_file(gdb, layer='W2W_Dist_Merge')"
   ]
  },
  {
   "cell_type": "code",
   "execution_count": 32,
   "metadata": {},
   "outputs": [
    {
     "data": {
      "text/plain": [
       "['CutType',\n",
       " 'BuffDist',\n",
       " 'Year',\n",
       " 'SLUCode',\n",
       " 'MERGE_SRC',\n",
       " 'Shape_Length',\n",
       " 'Shape_Area',\n",
       " 'geometry']"
      ]
     },
     "execution_count": 32,
     "metadata": {},
     "output_type": "execute_result"
    }
   ],
   "source": [
    "list(w2w.columns)"
   ]
  },
  {
   "cell_type": "code",
   "execution_count": 37,
   "metadata": {},
   "outputs": [],
   "source": [
    "w2w.loc[ w2w['MERGE_SRC'].str.contains('Well'), 'SLUCode'] = 'WELLSITE_FACILITY'\n",
    "w2w.loc[ w2w['MERGE_SRC'].str.contains('Pipeline'), 'SLUCode'] = 'PIPELINE'\n",
    "w2w.loc[ w2w['MERGE_SRC'].str.contains('Road'), 'SLUCode'] = 'ROAD'\n",
    "w2w.loc[ w2w['MERGE_SRC'].str.contains('Seismic'), 'SLUCode'] = 'GEOPHYSICAL'\n",
    "w2w.loc[ w2w['MERGE_SRC'].str.contains('Ancillary'), 'SLUCode'] = 'ANCILLARY'\n",
    "\n",
    "\n",
    "w2w.loc[ w2w['SLUCode'] == 'GEOPHYSICAL', 'SeismicSrc'] = w2w['MERGE_SRC']\n"
   ]
  },
  {
   "cell_type": "code",
   "execution_count": 38,
   "metadata": {},
   "outputs": [
    {
     "data": {
      "text/plain": [
       "array(['WELLSITE_FACILITY', 'PIPELINE', 'ROAD', 'GEOPHYSICAL',\n",
       "       'ANCILLARY'], dtype=object)"
      ]
     },
     "execution_count": 38,
     "metadata": {},
     "output_type": "execute_result"
    }
   ],
   "source": [
    "w2w['SLUCode'].unique()"
   ]
  },
  {
   "cell_type": "code",
   "execution_count": 81,
   "metadata": {},
   "outputs": [],
   "source": [
    "# Note - \"CutType\" uses the CutType field from Seismic_1996_2004, Seismic_2002_2006, and Seismic_Permitted. There is no field for this in LEGACY2D lines\n",
    "# LineWidth uses the \"LineWidth\" field for all sources except Legacy2D, which uses \"Width_Code\".\n",
    "# Width Codes are 0, 3, 5, 7. This is the approx lower limit of the width in meters\n",
    "\n",
    "# Fix discrepancy in caps on MECH lines\n",
    "w2w.loc[w2w['CutType'] == 'MECH', 'CutType'] = 'Mech'\n"
   ]
  },
  {
   "cell_type": "code",
   "execution_count": 84,
   "metadata": {},
   "outputs": [
    {
     "name": "stderr",
     "output_type": "stream",
     "text": [
      "C:\\Users\\nross\\AppData\\Local\\Temp\\ipykernel_35548\\221098958.py:1: UserWarning: Column names longer than 10 characters will be truncated when saved to ESRI Shapefile.\n",
      "  w2w.to_file(r'\\\\spatialfiles.bcgov\\work\\srm\\fsj\\Workarea\\nross\\WMBPlanning\\Data\\Disturbance\\w2w_cleaned.shp')\n",
      "c:\\Users\\nross\\AppData\\Local\\anaconda3\\envs\\geo_env\\Lib\\site-packages\\pyogrio\\raw.py:723: RuntimeWarning: Normalized/laundered field name: 'Shape_Length' to 'Shape_Leng'\n",
      "  ogr_write(\n"
     ]
    }
   ],
   "source": [
    "w2w.to_file(r'\\\\spatialfiles.bcgov\\work\\srm\\fsj\\Workarea\\nross\\WMBPlanning\\Data\\Disturbance\\w2w_cleaned.shp')"
   ]
  },
  {
   "cell_type": "code",
   "execution_count": 77,
   "metadata": {},
   "outputs": [],
   "source": [
    "# Dissolve on all fields\n",
    "w2w.geometry = w2w.geometry.make_valid()\n",
    "\n",
    "w2w_dis = w2w.dissolve(by=['SLUCode'])"
   ]
  },
  {
   "cell_type": "code",
   "execution_count": 78,
   "metadata": {},
   "outputs": [],
   "source": [
    "slu_ranked = {\n",
    "    4: 'WELLSITE_FACILITY',\n",
    "    3: 'PIPELINE',\n",
    "    2: 'ROAD',\n",
    "    1: 'GEOPHYSICAL',\n",
    "    0: 'ANCILLARY'\n",
    "}\n",
    "w2w_erase = w2w_dis\n",
    "\n",
    "for rank in range(0,5):\n",
    "    mask = w2w_erase.index == slu_ranked[rank]\n",
    "    # Get geom of current SLU\n",
    "    geom = w2w_erase.loc[ mask, 'geometry']\n",
    "    \n",
    "    # recursively erase the higher-ranking SLU classes from it\n",
    "    for upper_rank in range(rank+1, 5):\n",
    "        geom = difference(geom, w2w_erase.loc[ w2w_erase.index == slu_ranked[upper_rank], 'geometry'])\n",
    "    \n",
    "    # write this new geom to output\n",
    "    w2w_erase.loc[mask, 'geometry'] = geom"
   ]
  },
  {
   "cell_type": "code",
   "execution_count": null,
   "metadata": {},
   "outputs": [],
   "source": [
    "import folium\n",
    "m = w2w_dis.explore(name='erase')\n",
    "m = w2w.explore(m=m, color=\"red\", name='w2w')\n",
    "\n",
    "folium.LayerControl().add_to(m)\n",
    "m"
   ]
  },
  {
   "cell_type": "code",
   "execution_count": 47,
   "metadata": {},
   "outputs": [],
   "source": [
    "w2w_dis = w2w_dis[['geometry']]\n",
    "\n",
    "w2w_hv1 = w2w_dis.overlay(hv1_plan, how='intersection')"
   ]
  }
 ],
 "metadata": {
  "kernelspec": {
   "display_name": "base",
   "language": "python",
   "name": "python3"
  },
  "language_info": {
   "codemirror_mode": {
    "name": "ipython",
    "version": 3
   },
   "file_extension": ".py",
   "mimetype": "text/x-python",
   "name": "python",
   "nbconvert_exporter": "python",
   "pygments_lexer": "ipython3",
   "version": "3.13.1"
  }
 },
 "nbformat": 4,
 "nbformat_minor": 2
}
