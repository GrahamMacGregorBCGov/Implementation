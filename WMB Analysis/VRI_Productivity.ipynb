{
 "cells": [
  {
   "cell_type": "markdown",
   "metadata": {},
   "source": [
    "<h1>VRI Productivity Analysis - DuckDB</h1>\n",
    "\n",
    "This notebook uses DuckDB and the VRI Parquet file on NRS objectstore to download the VRI, clip to an AOI and preform analysis of site index values. It was created for WMB Planning in the Northeast Region as part of the Blueberry River First Nation Implementation Agreement. Written by North Ross in October 2024.\n",
    "\n",
    "DuckDB is used due to its very fast processing time with large datasets such as the VRI, especially when preforming clips, intersects and spatial joins. The initial idea for this analysis was to combine with the PSPL data. This did not end up being used in the final product, but the PSPL_testing.ipynb noteboook preserves my experimenting with it. DuckDB was very useful for this operation.\n",
    "\n",
    "<a href=\"https://jupysql.ploomber.io/en/latest/api/magic-plot.html\">JupySQL</a> is used to execute the DuckDB SQL and create plots, except in some cases where the duckdb conn.sql() function is used to implement directly in Python (in a loop for example)\n",
    "\n",
    "Further experiments could use <a href=\"https://developmentseed.org/lonboard/latest/\">lonboard</a> with the .from_duckdb() method to try quickly visually inspecting the data.\n",
    "\n",
    "Otherwise, you can export the data to another format or use the <a href=\"https://plugins.qgis.org/plugins/qduckdb/\">QGIS DuckDB extension</a> to plot the data (this works well in this case and is quite fast)"
   ]
  },
  {
   "cell_type": "code",
   "execution_count": null,
   "metadata": {},
   "outputs": [],
   "source": [
    "# install some libraries (if not already installed)\n",
    "%pip install --upgrade duckdb\n",
    "%pip install jupysql\n",
    "%pip install duckdb-engine\n",
    "%pip install matplotlib"
   ]
  },
  {
   "cell_type": "code",
   "execution_count": 1,
   "metadata": {},
   "outputs": [
    {
     "name": "stdout",
     "output_type": "stream",
     "text": [
      "There's a new jupysql version available (0.10.16), you're running 0.10.12. To upgrade: pip install jupysql --upgrade\n",
      "Deploy Streamlit apps for free on Ploomber Cloud! Learn more: https://ploomber.io/s/signup\n"
     ]
    }
   ],
   "source": [
    "# load libraries/jupyter extensions\n",
    "import pandas as pd\n",
    "import duckdb\n",
    "from shapely.geometry import shape\n",
    "import fiona\n",
    "import os\n",
    "%load_ext sql"
   ]
  },
  {
   "cell_type": "code",
   "execution_count": 2,
   "metadata": {},
   "outputs": [],
   "source": [
    "# sql ggplot\n",
    "from sql.ggplot import ggplot, aes, geom_boxplot, geom_histogram, facet_wrap"
   ]
  },
  {
   "cell_type": "code",
   "execution_count": 2,
   "metadata": {},
   "outputs": [],
   "source": [
    "# Set local variables, paths to AOI, vri, other data.\n",
    "# Note the aflb data is not yet incorporated into the script.\n",
    "\n",
    "# conn = duckdb.connect(database=':memory:')\n",
    "workingdir = r'C:\\Working\\WMBAnalysis'\n",
    "db = os.path.join(workingdir,'vri_analysis.db')\n",
    "vri_url = \"https://nrs.objectstore.gov.bc.ca/rczimv/geotest/veg_comp_layer_r1_poly.parquet\"\n",
    "aoi_path = r'\\\\spatialfiles2.bcgov\\work\\FOR\\RNI\\DPC\\General_User_Data\\nross\\BRFN_NE_LUPCE_Analysis\\WMB_Study_Area_2024_07_30\\WMB_Study_Area_2024_07_30.shp'\n",
    "brfn_gdb = r'\\\\spatialfiles.bcgov\\work\\srm\\nr\\NEGSS\\NEDD\\First_Nations_Agreements\\BRFN_Implementation_Agreement\\FileGeodatabase\\BRFNAgreement.gdb'\n",
    "\n",
    "\n",
    "conn = duckdb.connect(database=db)\n",
    "# conn.install_extension(\"httpfs\")\n",
    "# conn.install_extension(\"spatial\")\n",
    "# conn.load_extension(\"httpfs\")\n",
    "conn.load_extension(\"spatial\")\n"
   ]
  },
  {
   "cell_type": "code",
   "execution_count": 14,
   "metadata": {},
   "outputs": [],
   "source": [
    "# if it did not close properly...\n",
    "conn=duckdb.connect()\n",
    "conn.load_extension(\"spatial\")\n",
    "conn.sql(f\"attach '{db}' as vri_analysis\")\n",
    "conn.sql(f\"use vri_analysis\")\n",
    "conn.sql(\"DROP INDEX IF EXISTS idx\")\n",
    "conn.sql(\"DROP INDEX IF EXISTS idx_fwa\")\n",
    "conn.close()\n",
    "# then rerun above"
   ]
  },
  {
   "cell_type": "code",
   "execution_count": 3,
   "metadata": {},
   "outputs": [
    {
     "data": {
      "text/html": [
       "<span style=\"None\">Running query in &#x27;duckdb&#x27;</span>"
      ],
      "text/plain": [
       "Running query in 'duckdb'"
      ]
     },
     "metadata": {},
     "output_type": "display_data"
    },
    {
     "data": {
      "text/html": [
       "<table>\n",
       "    <thead>\n",
       "        <tr>\n",
       "            <th>table_catalog</th>\n",
       "            <th>table_schema</th>\n",
       "            <th>table_name</th>\n",
       "            <th>table_type</th>\n",
       "            <th>self_referencing_column_name</th>\n",
       "            <th>reference_generation</th>\n",
       "            <th>user_defined_type_catalog</th>\n",
       "            <th>user_defined_type_schema</th>\n",
       "            <th>user_defined_type_name</th>\n",
       "            <th>is_insertable_into</th>\n",
       "            <th>is_typed</th>\n",
       "            <th>commit_action</th>\n",
       "            <th>TABLE_COMMENT</th>\n",
       "        </tr>\n",
       "    </thead>\n",
       "    <tbody>\n",
       "        <tr>\n",
       "            <td>vri_analysis</td>\n",
       "            <td>main</td>\n",
       "            <td>aflb</td>\n",
       "            <td>BASE TABLE</td>\n",
       "            <td>None</td>\n",
       "            <td>None</td>\n",
       "            <td>None</td>\n",
       "            <td>None</td>\n",
       "            <td>None</td>\n",
       "            <td>YES</td>\n",
       "            <td>NO</td>\n",
       "            <td>None</td>\n",
       "            <td>None</td>\n",
       "        </tr>\n",
       "        <tr>\n",
       "            <td>vri_analysis</td>\n",
       "            <td>main</td>\n",
       "            <td>AFLB_own</td>\n",
       "            <td>BASE TABLE</td>\n",
       "            <td>None</td>\n",
       "            <td>None</td>\n",
       "            <td>None</td>\n",
       "            <td>None</td>\n",
       "            <td>None</td>\n",
       "            <td>YES</td>\n",
       "            <td>NO</td>\n",
       "            <td>None</td>\n",
       "            <td>None</td>\n",
       "        </tr>\n",
       "        <tr>\n",
       "            <td>vri_analysis</td>\n",
       "            <td>main</td>\n",
       "            <td>cut</td>\n",
       "            <td>BASE TABLE</td>\n",
       "            <td>None</td>\n",
       "            <td>None</td>\n",
       "            <td>None</td>\n",
       "            <td>None</td>\n",
       "            <td>None</td>\n",
       "            <td>YES</td>\n",
       "            <td>NO</td>\n",
       "            <td>None</td>\n",
       "            <td>None</td>\n",
       "        </tr>\n",
       "        <tr>\n",
       "            <td>vri_analysis</td>\n",
       "            <td>main</td>\n",
       "            <td>fwa</td>\n",
       "            <td>BASE TABLE</td>\n",
       "            <td>None</td>\n",
       "            <td>None</td>\n",
       "            <td>None</td>\n",
       "            <td>None</td>\n",
       "            <td>None</td>\n",
       "            <td>YES</td>\n",
       "            <td>NO</td>\n",
       "            <td>None</td>\n",
       "            <td>None</td>\n",
       "        </tr>\n",
       "        <tr>\n",
       "            <td>vri_analysis</td>\n",
       "            <td>main</td>\n",
       "            <td>fwa_simple</td>\n",
       "            <td>BASE TABLE</td>\n",
       "            <td>None</td>\n",
       "            <td>None</td>\n",
       "            <td>None</td>\n",
       "            <td>None</td>\n",
       "            <td>None</td>\n",
       "            <td>YES</td>\n",
       "            <td>NO</td>\n",
       "            <td>None</td>\n",
       "            <td>None</td>\n",
       "        </tr>\n",
       "        <tr>\n",
       "            <td>vri_analysis</td>\n",
       "            <td>main</td>\n",
       "            <td>hv1</td>\n",
       "            <td>BASE TABLE</td>\n",
       "            <td>None</td>\n",
       "            <td>None</td>\n",
       "            <td>None</td>\n",
       "            <td>None</td>\n",
       "            <td>None</td>\n",
       "            <td>YES</td>\n",
       "            <td>NO</td>\n",
       "            <td>None</td>\n",
       "            <td>None</td>\n",
       "        </tr>\n",
       "        <tr>\n",
       "            <td>vri_analysis</td>\n",
       "            <td>main</td>\n",
       "            <td>midaspen</td>\n",
       "            <td>BASE TABLE</td>\n",
       "            <td>None</td>\n",
       "            <td>None</td>\n",
       "            <td>None</td>\n",
       "            <td>None</td>\n",
       "            <td>None</td>\n",
       "            <td>YES</td>\n",
       "            <td>NO</td>\n",
       "            <td>None</td>\n",
       "            <td>None</td>\n",
       "        </tr>\n",
       "        <tr>\n",
       "            <td>vri_analysis</td>\n",
       "            <td>main</td>\n",
       "            <td>own</td>\n",
       "            <td>BASE TABLE</td>\n",
       "            <td>None</td>\n",
       "            <td>None</td>\n",
       "            <td>None</td>\n",
       "            <td>None</td>\n",
       "            <td>None</td>\n",
       "            <td>YES</td>\n",
       "            <td>NO</td>\n",
       "            <td>None</td>\n",
       "            <td>None</td>\n",
       "        </tr>\n",
       "        <tr>\n",
       "            <td>vri_analysis</td>\n",
       "            <td>main</td>\n",
       "            <td>pspl</td>\n",
       "            <td>BASE TABLE</td>\n",
       "            <td>None</td>\n",
       "            <td>None</td>\n",
       "            <td>None</td>\n",
       "            <td>None</td>\n",
       "            <td>None</td>\n",
       "            <td>YES</td>\n",
       "            <td>NO</td>\n",
       "            <td>None</td>\n",
       "            <td>None</td>\n",
       "        </tr>\n",
       "        <tr>\n",
       "            <td>vri_analysis</td>\n",
       "            <td>main</td>\n",
       "            <td>vri</td>\n",
       "            <td>BASE TABLE</td>\n",
       "            <td>None</td>\n",
       "            <td>None</td>\n",
       "            <td>None</td>\n",
       "            <td>None</td>\n",
       "            <td>None</td>\n",
       "            <td>YES</td>\n",
       "            <td>NO</td>\n",
       "            <td>None</td>\n",
       "            <td>None</td>\n",
       "        </tr>\n",
       "    </tbody>\n",
       "</table>\n",
       "<span style=\"font-style:italic;text-align:center;\">Truncated to <a href=\"https://jupysql.ploomber.io/en/latest/api/configuration.html#displaylimit\">displaylimit</a> of 10.</span>"
      ],
      "text/plain": [
       "+---------------+--------------+------------+------------+------------------------------+----------------------+---------------------------+--------------------------+------------------------+--------------------+----------+---------------+---------------+\n",
       "| table_catalog | table_schema | table_name | table_type | self_referencing_column_name | reference_generation | user_defined_type_catalog | user_defined_type_schema | user_defined_type_name | is_insertable_into | is_typed | commit_action | TABLE_COMMENT |\n",
       "+---------------+--------------+------------+------------+------------------------------+----------------------+---------------------------+--------------------------+------------------------+--------------------+----------+---------------+---------------+\n",
       "|  vri_analysis |     main     |    aflb    | BASE TABLE |             None             |         None         |            None           |           None           |          None          |        YES         |    NO    |      None     |      None     |\n",
       "|  vri_analysis |     main     |  AFLB_own  | BASE TABLE |             None             |         None         |            None           |           None           |          None          |        YES         |    NO    |      None     |      None     |\n",
       "|  vri_analysis |     main     |    cut     | BASE TABLE |             None             |         None         |            None           |           None           |          None          |        YES         |    NO    |      None     |      None     |\n",
       "|  vri_analysis |     main     |    fwa     | BASE TABLE |             None             |         None         |            None           |           None           |          None          |        YES         |    NO    |      None     |      None     |\n",
       "|  vri_analysis |     main     | fwa_simple | BASE TABLE |             None             |         None         |            None           |           None           |          None          |        YES         |    NO    |      None     |      None     |\n",
       "|  vri_analysis |     main     |    hv1     | BASE TABLE |             None             |         None         |            None           |           None           |          None          |        YES         |    NO    |      None     |      None     |\n",
       "|  vri_analysis |     main     |  midaspen  | BASE TABLE |             None             |         None         |            None           |           None           |          None          |        YES         |    NO    |      None     |      None     |\n",
       "|  vri_analysis |     main     |    own     | BASE TABLE |             None             |         None         |            None           |           None           |          None          |        YES         |    NO    |      None     |      None     |\n",
       "|  vri_analysis |     main     |    pspl    | BASE TABLE |             None             |         None         |            None           |           None           |          None          |        YES         |    NO    |      None     |      None     |\n",
       "|  vri_analysis |     main     |    vri     | BASE TABLE |             None             |         None         |            None           |           None           |          None          |        YES         |    NO    |      None     |      None     |\n",
       "+---------------+--------------+------------+------------+------------------------------+----------------------+---------------------------+--------------------------+------------------------+--------------------+----------+---------------+---------------+\n",
       "Truncated to displaylimit of 10."
      ]
     },
     "execution_count": 3,
     "metadata": {},
     "output_type": "execute_result"
    }
   ],
   "source": [
    "# Setup sql magic and show current tables\n",
    "%sql conn --alias duckdb\n",
    "%sql select * from information_schema.tables"
   ]
  },
  {
   "cell_type": "code",
   "execution_count": 4,
   "metadata": {},
   "outputs": [
    {
     "ename": "DriverError",
     "evalue": "\\\\spatialfiles2.bcgov\\work\\FOR\\RNI\\DPC\\General_User_Data\\nross\\BRFN_NE_LUPCE_Analysis\\WMB_Study_Area_2024_07_30\\WMB_Study_Area_2024_07_30.shp: No such file or directory",
     "output_type": "error",
     "traceback": [
      "\u001b[1;31m---------------------------------------------------------------------------\u001b[0m",
      "\u001b[1;31mCPLE_OpenFailedError\u001b[0m                      Traceback (most recent call last)",
      "File \u001b[1;32mfiona\\\\ogrext.pyx:136\u001b[0m, in \u001b[0;36mfiona.ogrext.gdal_open_vector\u001b[1;34m()\u001b[0m\n",
      "File \u001b[1;32mfiona\\\\_err.pyx:291\u001b[0m, in \u001b[0;36mfiona._err.exc_wrap_pointer\u001b[1;34m()\u001b[0m\n",
      "\u001b[1;31mCPLE_OpenFailedError\u001b[0m: \\\\spatialfiles2.bcgov\\work\\FOR\\RNI\\DPC\\General_User_Data\\nross\\BRFN_NE_LUPCE_Analysis\\WMB_Study_Area_2024_07_30\\WMB_Study_Area_2024_07_30.shp: No such file or directory",
      "\nDuring handling of the above exception, another exception occurred:\n",
      "\u001b[1;31mDriverError\u001b[0m                               Traceback (most recent call last)",
      "Cell \u001b[1;32mIn[4], line 2\u001b[0m\n\u001b[0;32m      1\u001b[0m \u001b[38;5;66;03m# read AOI as shapely geom\u001b[39;00m\n\u001b[1;32m----> 2\u001b[0m \u001b[38;5;28;01mwith\u001b[39;00m fiona\u001b[38;5;241m.\u001b[39mopen(aoi_path) \u001b[38;5;28;01mas\u001b[39;00m shapefile:\n\u001b[0;32m      3\u001b[0m     aoi \u001b[38;5;241m=\u001b[39m shape(shapefile[\u001b[38;5;241m0\u001b[39m][\u001b[38;5;124m'\u001b[39m\u001b[38;5;124mgeometry\u001b[39m\u001b[38;5;124m'\u001b[39m])\n\u001b[0;32m      4\u001b[0m     aoi_area_ha \u001b[38;5;241m=\u001b[39m aoi\u001b[38;5;241m.\u001b[39marea\u001b[38;5;241m/\u001b[39m\u001b[38;5;241m10000\u001b[39m\n",
      "File \u001b[1;32mc:\\Users\\nross\\AppData\\Local\\anaconda3\\Lib\\site-packages\\fiona\\env.py:457\u001b[0m, in \u001b[0;36mensure_env_with_credentials.<locals>.wrapper\u001b[1;34m(*args, **kwds)\u001b[0m\n\u001b[0;32m    454\u001b[0m     session \u001b[38;5;241m=\u001b[39m DummySession()\n\u001b[0;32m    456\u001b[0m \u001b[38;5;28;01mwith\u001b[39;00m env_ctor(session\u001b[38;5;241m=\u001b[39msession):\n\u001b[1;32m--> 457\u001b[0m     \u001b[38;5;28;01mreturn\u001b[39;00m f(\u001b[38;5;241m*\u001b[39margs, \u001b[38;5;241m*\u001b[39m\u001b[38;5;241m*\u001b[39mkwds)\n",
      "File \u001b[1;32mc:\\Users\\nross\\AppData\\Local\\anaconda3\\Lib\\site-packages\\fiona\\__init__.py:292\u001b[0m, in \u001b[0;36mopen\u001b[1;34m(fp, mode, driver, schema, crs, encoding, layer, vfs, enabled_drivers, crs_wkt, allow_unsupported_drivers, **kwargs)\u001b[0m\n\u001b[0;32m    289\u001b[0m     path \u001b[38;5;241m=\u001b[39m parse_path(fp)\n\u001b[0;32m    291\u001b[0m \u001b[38;5;28;01mif\u001b[39;00m mode \u001b[38;5;129;01min\u001b[39;00m (\u001b[38;5;124m\"\u001b[39m\u001b[38;5;124ma\u001b[39m\u001b[38;5;124m\"\u001b[39m, \u001b[38;5;124m\"\u001b[39m\u001b[38;5;124mr\u001b[39m\u001b[38;5;124m\"\u001b[39m):\n\u001b[1;32m--> 292\u001b[0m     colxn \u001b[38;5;241m=\u001b[39m Collection(\n\u001b[0;32m    293\u001b[0m         path,\n\u001b[0;32m    294\u001b[0m         mode,\n\u001b[0;32m    295\u001b[0m         driver\u001b[38;5;241m=\u001b[39mdriver,\n\u001b[0;32m    296\u001b[0m         encoding\u001b[38;5;241m=\u001b[39mencoding,\n\u001b[0;32m    297\u001b[0m         layer\u001b[38;5;241m=\u001b[39mlayer,\n\u001b[0;32m    298\u001b[0m         enabled_drivers\u001b[38;5;241m=\u001b[39menabled_drivers,\n\u001b[0;32m    299\u001b[0m         allow_unsupported_drivers\u001b[38;5;241m=\u001b[39mallow_unsupported_drivers,\n\u001b[0;32m    300\u001b[0m         \u001b[38;5;241m*\u001b[39m\u001b[38;5;241m*\u001b[39mkwargs\n\u001b[0;32m    301\u001b[0m     )\n\u001b[0;32m    302\u001b[0m \u001b[38;5;28;01melif\u001b[39;00m mode \u001b[38;5;241m==\u001b[39m \u001b[38;5;124m\"\u001b[39m\u001b[38;5;124mw\u001b[39m\u001b[38;5;124m\"\u001b[39m:\n\u001b[0;32m    303\u001b[0m     colxn \u001b[38;5;241m=\u001b[39m Collection(\n\u001b[0;32m    304\u001b[0m         path,\n\u001b[0;32m    305\u001b[0m         mode,\n\u001b[1;32m   (...)\u001b[0m\n\u001b[0;32m    314\u001b[0m         \u001b[38;5;241m*\u001b[39m\u001b[38;5;241m*\u001b[39mkwargs\n\u001b[0;32m    315\u001b[0m     )\n",
      "File \u001b[1;32mc:\\Users\\nross\\AppData\\Local\\anaconda3\\Lib\\site-packages\\fiona\\collection.py:243\u001b[0m, in \u001b[0;36mCollection.__init__\u001b[1;34m(self, path, mode, driver, schema, crs, encoding, layer, vsi, archive, enabled_drivers, crs_wkt, ignore_fields, ignore_geometry, include_fields, wkt_version, allow_unsupported_drivers, **kwargs)\u001b[0m\n\u001b[0;32m    241\u001b[0m \u001b[38;5;28;01mif\u001b[39;00m \u001b[38;5;28mself\u001b[39m\u001b[38;5;241m.\u001b[39mmode \u001b[38;5;241m==\u001b[39m \u001b[38;5;124m\"\u001b[39m\u001b[38;5;124mr\u001b[39m\u001b[38;5;124m\"\u001b[39m:\n\u001b[0;32m    242\u001b[0m     \u001b[38;5;28mself\u001b[39m\u001b[38;5;241m.\u001b[39msession \u001b[38;5;241m=\u001b[39m Session()\n\u001b[1;32m--> 243\u001b[0m     \u001b[38;5;28mself\u001b[39m\u001b[38;5;241m.\u001b[39msession\u001b[38;5;241m.\u001b[39mstart(\u001b[38;5;28mself\u001b[39m, \u001b[38;5;241m*\u001b[39m\u001b[38;5;241m*\u001b[39mkwargs)\n\u001b[0;32m    244\u001b[0m \u001b[38;5;28;01melif\u001b[39;00m \u001b[38;5;28mself\u001b[39m\u001b[38;5;241m.\u001b[39mmode \u001b[38;5;129;01min\u001b[39;00m (\u001b[38;5;124m\"\u001b[39m\u001b[38;5;124ma\u001b[39m\u001b[38;5;124m\"\u001b[39m, \u001b[38;5;124m\"\u001b[39m\u001b[38;5;124mw\u001b[39m\u001b[38;5;124m\"\u001b[39m):\n\u001b[0;32m    245\u001b[0m     \u001b[38;5;28mself\u001b[39m\u001b[38;5;241m.\u001b[39msession \u001b[38;5;241m=\u001b[39m WritingSession()\n",
      "File \u001b[1;32mfiona\\\\ogrext.pyx:588\u001b[0m, in \u001b[0;36mfiona.ogrext.Session.start\u001b[1;34m()\u001b[0m\n",
      "File \u001b[1;32mfiona\\\\ogrext.pyx:143\u001b[0m, in \u001b[0;36mfiona.ogrext.gdal_open_vector\u001b[1;34m()\u001b[0m\n",
      "\u001b[1;31mDriverError\u001b[0m: \\\\spatialfiles2.bcgov\\work\\FOR\\RNI\\DPC\\General_User_Data\\nross\\BRFN_NE_LUPCE_Analysis\\WMB_Study_Area_2024_07_30\\WMB_Study_Area_2024_07_30.shp: No such file or directory"
     ]
    }
   ],
   "source": [
    "# read AOI as shapely geom\n",
    "with fiona.open(aoi_path) as shapefile:\n",
    "    aoi = shape(shapefile[0]['geometry'])\n",
    "    aoi_area_ha = aoi.area/10000\n",
    "    print(round(aoi_area_ha, 2))\n"
   ]
  },
  {
   "cell_type": "code",
   "execution_count": 16,
   "metadata": {},
   "outputs": [],
   "source": [
    "# read BRFN layers as geopandas df\n",
    "import geopandas as gpd\n",
    "\n",
    "wmb_gdf = gpd.GeoDataFrame.from_file(brfn_gdb, layer='Priority_WMB')\n",
    "# add Cameron River WMB\n",
    "cam_gdf = gpd.GeoDataFrame.from_file(brfn_gdb, layer='CameronR_WMB')\n",
    "cam_gdf['WATER_MANAGEMENT_BASIN_NAME'] = cam_gdf['BASIN_NAME']\n",
    "wmb_gdf = pd.concat([wmb_gdf, cam_gdf])\n",
    "wmb_gdf['wkt'] = wmb_gdf['geometry'].to_wkt()\n",
    "wmb_gdf = wmb_gdf.drop(columns='geometry')\n",
    "conn.sql(\"CREATE TABLE IF NOT EXISTS wmb AS (SELECT WATER_MANAGEMENT_BASIN_NAME AS WMB_NAME,  ST_GeomFromText(wkt) as GEOM FROM wmb_gdf)\")\n",
    "del wmb_gdf, cam_gdf\n",
    "\n",
    "hv1_gdf  =gpd.GeoDataFrame.from_file(brfn_gdb, layer='BRFN_HV1')\n",
    "hv1_gdf['wkt'] = hv1_gdf['geometry'].to_wkt()\n",
    "hv1_gdf = hv1_gdf.drop(columns='geometry')\n",
    "conn.sql(\"CREATE TABLE IF NOT EXISTS hv1 AS (SELECT Name as HV1Name, Zone_A_B_C, ZoneLabel as HV1ZoneLabel, ST_GeomFromText(wkt) as GEOM FROM hv1_gdf)\")\n",
    "del hv1_gdf\n"
   ]
  },
  {
   "cell_type": "markdown",
   "metadata": {},
   "source": [
    "<h1>Download VRI</h1>\n",
    "\n",
    "The next section downloads the relevant 2023 VRI R1 data by querying a parquet object in the nrs object storage, then clips it to our AOI. This operation is much faster when working in memory."
   ]
  },
  {
   "cell_type": "code",
   "execution_count": 6,
   "metadata": {},
   "outputs": [
    {
     "data": {
      "text/html": [
       "<span style=\"None\">Running query in &#x27;duckdb&#x27;</span>"
      ],
      "text/plain": [
       "Running query in 'duckdb'"
      ]
     },
     "metadata": {},
     "output_type": "display_data"
    },
    {
     "data": {
      "text/html": [
       "<table>\n",
       "    <thead>\n",
       "        <tr>\n",
       "            <th>Count</th>\n",
       "        </tr>\n",
       "    </thead>\n",
       "    <tbody>\n",
       "        <tr>\n",
       "            <td>188049</td>\n",
       "        </tr>\n",
       "    </tbody>\n",
       "</table>"
      ],
      "text/plain": [
       "+--------+\n",
       "| Count  |\n",
       "+--------+\n",
       "| 188049 |\n",
       "+--------+"
      ]
     },
     "execution_count": 6,
     "metadata": {},
     "output_type": "execute_result"
    }
   ],
   "source": [
    "%%sql\n",
    "# create vri table\n",
    "CREATE OR REPLACE TABLE vri as (\n",
    "    select Shape as geom, OBJECTID,\n",
    "      BCLCS_LEVEL_1, BCLCS_LEVEL_2, BCLCS_LEVEL_3, FOR_MGMT_LAND_BASE_IND,\n",
    "      BEC_ZONE_CODE, bec_subzone, bec_phase, bec_variant,\n",
    "      SPECIES_CD_1, SPECIES_PCT_1, SPECIES_CD_2, SPECIES_PCT_2, SPECIES_CD_3, SPECIES_PCT_3,\n",
    "      SPECIES_CD_4, SPECIES_PCT_4, SPECIES_CD_5, SPECIES_PCT_5, SPECIES_CD_6, SPECIES_PCT_6,\n",
    "      est_site_index, est_site_index_source_cd, est_site_index_species_cd,\n",
    "      PROJ_AGE_CLASS_CD_1, harvest_date, SITE_INDEX, POLYGON_AREA\n",
    "    from '{{vri_url}}' -- read parquet file from objectstorage\n",
    "    where ST_Intersects (geom, ST_GeomFromText('{{aoi}}'))\n",
    ");"
   ]
  },
  {
   "cell_type": "code",
   "execution_count": 7,
   "metadata": {},
   "outputs": [
    {
     "data": {
      "text/html": [
       "<span style=\"None\">Running query in &#x27;duckdb&#x27;</span>"
      ],
      "text/plain": [
       "Running query in 'duckdb'"
      ]
     },
     "metadata": {},
     "output_type": "display_data"
    },
    {
     "data": {
      "text/html": [
       "<table>\n",
       "    <thead>\n",
       "        <tr>\n",
       "            <th>Count</th>\n",
       "        </tr>\n",
       "    </thead>\n",
       "    <tbody>\n",
       "        <tr>\n",
       "            <td>188049</td>\n",
       "        </tr>\n",
       "    </tbody>\n",
       "</table>"
      ],
      "text/plain": [
       "+--------+\n",
       "| Count  |\n",
       "+--------+\n",
       "| 188049 |\n",
       "+--------+"
      ]
     },
     "execution_count": 7,
     "metadata": {},
     "output_type": "execute_result"
    }
   ],
   "source": [
    "%%sql\n",
    "# Clip VRI to AOI\n",
    "UPDATE vri\n",
    "SET geom = (\n",
    "    SELECT\n",
    "        CASE WHEN ST_Intersects(geom, ST_Boundary(ST_GeomFromText('{{aoi}}')))\n",
    "                THEN ST_Intersection(geom, ST_GeomFromText('{{aoi}}'))\n",
    "                ELSE geom END\n",
    "    from vri v\n",
    "    WHERE vri.OBJECTID = v.OBJECTID\n",
    "    );\n",
    "\n",
    "UPDATE vri\n",
    "set POLYGON_AREA = ST_Area(geom)/10000;"
   ]
  },
  {
   "cell_type": "code",
   "execution_count": 5,
   "metadata": {},
   "outputs": [],
   "source": [
    "# Add tables for cutblocks, fwa and ownership\n",
    "aoiBoundsStr = str(aoi.bounds)\n",
    "\n",
    "intersectString = f\"\"\"\n",
    "SDO_GEOMETRY(2003, 3005, NULL,\n",
    "        SDO_ELEM_INFO_ARRAY(1,1003,3),\n",
    "        SDO_ORDINATE_ARRAY{aoiBoundsStr} \n",
    "    )\n",
    "\"\"\"\n",
    "\n",
    "cut_osql = f\"\"\"\n",
    "    SELECT OBJECTID, SHAPE\n",
    "    FROM WHSE_FOREST_VEGETATION.VEG_CONSOLIDATED_CUT_BLOCKS_SP\n",
    "    WHERE SDO_ANYINTERACT (SHAPE,{intersectString}) = 'TRUE'\n",
    "\"\"\"\n",
    "\n",
    "fwa_osql =  f\"\"\"\n",
    "        SELECT OBJECTID, GEOMETRY AS SHAPE\n",
    "        FROM WHSE_BASEMAPPING.FWA_LAKES_POLY\n",
    "        WHERE SDO_ANYINTERACT (GEOMETRY,{intersectString}) = 'TRUE'\n",
    "    UNION ALL\n",
    "        SELECT OBJECTID, GEOMETRY AS SHAPE\n",
    "        FROM WHSE_BASEMAPPING.FWA_WETLANDS_POLY\n",
    "        WHERE SDO_ANYINTERACT (GEOMETRY,{intersectString}) = 'TRUE'\n",
    "    UNION ALL\n",
    "        SELECT OBJECTID, GEOMETRY AS SHAPE\n",
    "        FROM WHSE_BASEMAPPING.FWA_RIVERS_POLY\n",
    "        WHERE SDO_ANYINTERACT (GEOMETRY,{intersectString}) = 'TRUE'\n",
    "        \"\"\"\n",
    "        \n",
    "own_osql = f\"\"\"\n",
    "    SELECT OBJECTID, \n",
    "        CASE \n",
    "            WHEN OWN NOT IN (40, 52, 54, 77, 80, 81, 91, 99) \n",
    "            THEN 'AFLB' \n",
    "            ELSE 'IFLB' \n",
    "        END AS OWN_AFLB,\n",
    "        GEOMETRY\n",
    "    FROM WHSE_FOREST_VEGETATION.F_OWN\n",
    "    WHERE SDO_ANYINTERACT (GEOMETRY,{intersectString}) = 'TRUE'\n",
    "                \"\"\" \n",
    "import sys\n",
    "sys.path.append(\"\\\\spatialfiles2.bcgov\\work\\FOR\\RNI\\DPC\\General_User_Data\\nross\\BRFN_NE_LUPCE_Analysis\\scripts\\WMB_Analysis\")\n",
    "from bcgw2gdf import bcgw2gdf\n",
    "bcgw2gdf = bcgw2gdf()\n"
   ]
  },
  {
   "cell_type": "code",
   "execution_count": 9,
   "metadata": {},
   "outputs": [
    {
     "name": "stderr",
     "output_type": "stream",
     "text": [
      "INFO:root:spatial query returned as GeoDataFrame\n",
      "INFO:root:spatial query returned as GeoDataFrame\n",
      "INFO:root:spatial query returned as GeoDataFrame\n"
     ]
    }
   ],
   "source": [
    "cut_df = bcgw2gdf.get_spatial_table(cut_osql) \n",
    "fwa_df = bcgw2gdf.get_spatial_table(fwa_osql) \n",
    "own_df = bcgw2gdf.get_spatial_table(own_osql)\n",
    "\n",
    "conn.sql(f\"CREATE TABLE IF NOT EXISTS cut AS (SELECT OBJECTID, (ST_GeomFromText(wkt)) as GEOM FROM cut_df)\")\n",
    "conn.sql(f\"CREATE TABLE IF NOT EXISTS fwa AS (SELECT OBJECTID, (ST_GeomFromText(wkt)) as GEOM, ST_Area(GEOM)/10000 as POLYGON_AREA FROM fwa_df)\")\n",
    "conn.sql(f\"CREATE TABLE IF NOT EXISTS own AS (SELECT OBJECTID, OWN_AFLB, (ST_GeomFromText(wkt)) as GEOM FROM own_df)\")\n",
    "del cut_df, fwa_df, own_df"
   ]
  },
  {
   "cell_type": "code",
   "execution_count": 5,
   "metadata": {},
   "outputs": [
    {
     "data": {
      "text/html": [
       "<span style=\"None\">Running query in &#x27;duckdb&#x27;</span>"
      ],
      "text/plain": [
       "Running query in 'duckdb'"
      ]
     },
     "metadata": {},
     "output_type": "display_data"
    },
    {
     "data": {
      "text/html": [
       "<table>\n",
       "    <thead>\n",
       "        <tr>\n",
       "            <th>Count</th>\n",
       "        </tr>\n",
       "    </thead>\n",
       "    <tbody>\n",
       "    </tbody>\n",
       "</table>"
      ],
      "text/plain": [
       "+-------+\n",
       "| Count |\n",
       "+-------+\n",
       "+-------+"
      ]
     },
     "execution_count": 5,
     "metadata": {},
     "output_type": "execute_result"
    }
   ],
   "source": [
    "%%sql \n",
    "drop table if exists fwa_simple;\n",
    "\n",
    "create table if not exists fwa_simple as (\n",
    "    SELECT OBJECTID, ST_Simplify(geom, 10) as GEOM, ST_AREA(ST_Simplify(geom, 10)) as POLYGON_AREA\n",
    "    from fwa\n",
    "    where POLYGON_AREA > 0.5\n",
    ");\n",
    "\n",
    "\n",
    "CREATE INDEX IF NOT EXISTS idx ON vri USING RTREE (geom);"
   ]
  },
  {
   "cell_type": "code",
   "execution_count": 29,
   "metadata": {},
   "outputs": [
    {
     "data": {
      "text/html": [
       "<span style=\"None\">Running query in &#x27;duckdb&#x27;</span>"
      ],
      "text/plain": [
       "Running query in 'duckdb'"
      ]
     },
     "metadata": {},
     "output_type": "display_data"
    },
    {
     "data": {
      "text/html": [
       "<table>\n",
       "    <thead>\n",
       "        <tr>\n",
       "            <th>min area</th>\n",
       "            <th>count(objectid)</th>\n",
       "            <th>sum(st_npoints(geom))</th>\n",
       "            <th>sum(polygon_area)</th>\n",
       "            <th>sum(st_npoints(st_simplify(geom, 1)))</th>\n",
       "            <th>(sum(st_area(st_simplify(geom, 1))) / 10000)</th>\n",
       "        </tr>\n",
       "    </thead>\n",
       "    <tbody>\n",
       "        <tr>\n",
       "            <td>0</td>\n",
       "            <td>32389</td>\n",
       "            <td>4024322</td>\n",
       "            <td>670867.3310873717</td>\n",
       "            <td>2347125</td>\n",
       "            <td>670841.3953598439</td>\n",
       "        </tr>\n",
       "        <tr>\n",
       "            <td>0.5</td>\n",
       "            <td>20995</td>\n",
       "            <td>3780847</td>\n",
       "            <td>668561.3464576767</td>\n",
       "            <td>2176990</td>\n",
       "            <td>668541.392765821</td>\n",
       "        </tr>\n",
       "    </tbody>\n",
       "</table>"
      ],
      "text/plain": [
       "+----------+-----------------+-----------------------+-------------------+---------------------------------------+----------------------------------------------+\n",
       "| min area | count(objectid) | sum(st_npoints(geom)) | sum(polygon_area) | sum(st_npoints(st_simplify(geom, 1))) | (sum(st_area(st_simplify(geom, 1))) / 10000) |\n",
       "+----------+-----------------+-----------------------+-------------------+---------------------------------------+----------------------------------------------+\n",
       "|    0     |      32389      |        4024322        | 670867.3310873717 |                2347125                |              670841.3953598439               |\n",
       "|   0.5    |      20995      |        3780847        | 668561.3464576767 |                2176990                |               668541.392765821               |\n",
       "+----------+-----------------+-----------------------+-------------------+---------------------------------------+----------------------------------------------+"
      ]
     },
     "execution_count": 29,
     "metadata": {},
     "output_type": "execute_result"
    }
   ],
   "source": [
    "%%sql\n",
    "select '0' as \"min area\", count(objectid), sum(ST_NPoints(geom)), sum(polygon_area), sum(ST_NPoints(ST_Simplify(geom, 1))), sum(ST_Area(ST_Simplify(geom, 1)))/10000 from fwa where polygon_area > 0\n",
    "union all\n",
    "select '0.5' as \"min area\", count(objectid), sum(ST_NPoints(geom)), sum(polygon_area), sum(ST_NPoints(ST_Simplify(geom, 1))), sum(ST_Area(ST_Simplify(geom, 1)))/10000 from fwa where polygon_area > 0.5\n",
    "# union all\n",
    "# select '5', count(objectid), sum(ST_NPoints(geom)), sum(polygon_area) from fwa where polygon_area > 5\n",
    "# union all\n",
    "# select '25', count(objectid), sum(ST_NPoints(geom)), sum(polygon_area) from fwa where polygon_area > 25\n",
    "# union all\n",
    "# select '100', count(objectid), sum(ST_NPoints(geom)), sum(polygon_area) from fwa where polygon_area > 100"
   ]
  },
  {
   "cell_type": "code",
   "execution_count": 10,
   "metadata": {},
   "outputs": [
    {
     "data": {
      "text/html": [
       "<span style=\"None\">Running query in &#x27;duckdb&#x27;</span>"
      ],
      "text/plain": [
       "Running query in 'duckdb'"
      ]
     },
     "metadata": {},
     "output_type": "display_data"
    },
    {
     "data": {
      "text/html": [
       "<table>\n",
       "    <thead>\n",
       "        <tr>\n",
       "            <th>Count</th>\n",
       "        </tr>\n",
       "    </thead>\n",
       "    <tbody>\n",
       "    </tbody>\n",
       "</table>"
      ],
      "text/plain": [
       "+-------+\n",
       "| Count |\n",
       "+-------+\n",
       "+-------+"
      ]
     },
     "execution_count": 10,
     "metadata": {},
     "output_type": "execute_result"
    }
   ],
   "source": [
    "%%sql\n",
    "# Create a spatial index (RTree) for faser performance\n",
    "DROP INDEX IF EXISTS idx;\n",
    "CREATE INDEX IF NOT EXISTS idx ON vri USING RTREE (geom);"
   ]
  },
  {
   "cell_type": "code",
   "execution_count": 11,
   "metadata": {},
   "outputs": [
    {
     "data": {
      "text/html": [
       "<span style=\"None\">Running query in &#x27;duckdb&#x27;</span>"
      ],
      "text/plain": [
       "Running query in 'duckdb'"
      ]
     },
     "metadata": {},
     "output_type": "display_data"
    },
    {
     "ename": "DependencyException",
     "evalue": "Dependency Error: Cannot alter entry \"vri\" because there are entries that depend on it.",
     "output_type": "error",
     "traceback": [
      "\u001b[1;31m---------------------------------------------------------------------------\u001b[0m",
      "\u001b[1;31mDependencyException\u001b[0m                       Traceback (most recent call last)",
      "Cell \u001b[1;32mIn[11], line 1\u001b[0m\n\u001b[1;32m----> 1\u001b[0m get_ipython()\u001b[38;5;241m.\u001b[39mrun_cell_magic(\u001b[38;5;124m'\u001b[39m\u001b[38;5;124msql\u001b[39m\u001b[38;5;124m'\u001b[39m, \u001b[38;5;124m'\u001b[39m\u001b[38;5;124m'\u001b[39m, \u001b[38;5;124m\"\u001b[39m\u001b[38;5;124mALTER TABLE vri\u001b[39m\u001b[38;5;130;01m\\n\u001b[39;00m\u001b[38;5;124mDROP IF EXISTS aflb_fact;\u001b[39m\u001b[38;5;130;01m\\n\u001b[39;00m\u001b[38;5;130;01m\\n\u001b[39;00m\u001b[38;5;124mALTER TABLE vri\u001b[39m\u001b[38;5;130;01m\\n\u001b[39;00m\u001b[38;5;124mADD COLUMN aflb_fact FLOAT;\u001b[39m\u001b[38;5;130;01m\\n\u001b[39;00m\u001b[38;5;130;01m\\n\u001b[39;00m\u001b[38;5;124mUPDATE vri\u001b[39m\u001b[38;5;130;01m\\n\u001b[39;00m\u001b[38;5;124m    SET aflb_fact = 1.0\u001b[39m\u001b[38;5;130;01m\\n\u001b[39;00m\u001b[38;5;124m        where BCLCS_LEVEL_1 != \u001b[39m\u001b[38;5;124m'\u001b[39m\u001b[38;5;124mN\u001b[39m\u001b[38;5;124m'\u001b[39m\u001b[38;5;124m AND BCLCS_LEVEL_2 != \u001b[39m\u001b[38;5;124m'\u001b[39m\u001b[38;5;124mW\u001b[39m\u001b[38;5;124m'\u001b[39m\u001b[38;5;124m AND BCLCS_LEVEL_3 != \u001b[39m\u001b[38;5;124m'\u001b[39m\u001b[38;5;124mW\u001b[39m\u001b[38;5;124m'\u001b[39m\u001b[38;5;124m AND FOR_MGMT_LAND_BASE_IND != \u001b[39m\u001b[38;5;124m'\u001b[39m\u001b[38;5;124mN\u001b[39m\u001b[38;5;124m'\u001b[39m\u001b[38;5;124m;\u001b[39m\u001b[38;5;130;01m\\n\u001b[39;00m\u001b[38;5;124m\"\u001b[39m)\n",
      "File \u001b[1;32mc:\\Users\\nross\\AppData\\Local\\anaconda3\\Lib\\site-packages\\IPython\\core\\interactiveshell.py:2517\u001b[0m, in \u001b[0;36mInteractiveShell.run_cell_magic\u001b[1;34m(self, magic_name, line, cell)\u001b[0m\n\u001b[0;32m   2515\u001b[0m \u001b[38;5;28;01mwith\u001b[39;00m \u001b[38;5;28mself\u001b[39m\u001b[38;5;241m.\u001b[39mbuiltin_trap:\n\u001b[0;32m   2516\u001b[0m     args \u001b[38;5;241m=\u001b[39m (magic_arg_s, cell)\n\u001b[1;32m-> 2517\u001b[0m     result \u001b[38;5;241m=\u001b[39m fn(\u001b[38;5;241m*\u001b[39margs, \u001b[38;5;241m*\u001b[39m\u001b[38;5;241m*\u001b[39mkwargs)\n\u001b[0;32m   2519\u001b[0m \u001b[38;5;66;03m# The code below prevents the output from being displayed\u001b[39;00m\n\u001b[0;32m   2520\u001b[0m \u001b[38;5;66;03m# when using magics with decorator @output_can_be_silenced\u001b[39;00m\n\u001b[0;32m   2521\u001b[0m \u001b[38;5;66;03m# when the last Python token in the expression is a ';'.\u001b[39;00m\n\u001b[0;32m   2522\u001b[0m \u001b[38;5;28;01mif\u001b[39;00m \u001b[38;5;28mgetattr\u001b[39m(fn, magic\u001b[38;5;241m.\u001b[39mMAGIC_OUTPUT_CAN_BE_SILENCED, \u001b[38;5;28;01mFalse\u001b[39;00m):\n",
      "File \u001b[1;32mc:\\Users\\nross\\AppData\\Local\\anaconda3\\Lib\\site-packages\\sql\\magic.py:369\u001b[0m, in \u001b[0;36mSqlMagic.execute\u001b[1;34m(self, line, cell, local_ns)\u001b[0m\n\u001b[0;32m    261\u001b[0m \u001b[38;5;129m@no_var_expand\u001b[39m\n\u001b[0;32m    262\u001b[0m \u001b[38;5;129m@needs_local_scope\u001b[39m\n\u001b[0;32m    263\u001b[0m \u001b[38;5;129m@line_magic\u001b[39m(\u001b[38;5;124m\"\u001b[39m\u001b[38;5;124msql\u001b[39m\u001b[38;5;124m\"\u001b[39m)\n\u001b[1;32m   (...)\u001b[0m\n\u001b[0;32m    341\u001b[0m )\n\u001b[0;32m    342\u001b[0m \u001b[38;5;28;01mdef\u001b[39;00m \u001b[38;5;21mexecute\u001b[39m(\u001b[38;5;28mself\u001b[39m, line\u001b[38;5;241m=\u001b[39m\u001b[38;5;124m\"\u001b[39m\u001b[38;5;124m\"\u001b[39m, cell\u001b[38;5;241m=\u001b[39m\u001b[38;5;124m\"\u001b[39m\u001b[38;5;124m\"\u001b[39m, local_ns\u001b[38;5;241m=\u001b[39m\u001b[38;5;28;01mNone\u001b[39;00m):\n\u001b[0;32m    343\u001b[0m \u001b[38;5;250m    \u001b[39m\u001b[38;5;124;03m\"\"\"\u001b[39;00m\n\u001b[0;32m    344\u001b[0m \u001b[38;5;124;03m    Runs SQL statement against a database, specified by\u001b[39;00m\n\u001b[0;32m    345\u001b[0m \u001b[38;5;124;03m    SQLAlchemy connect string.\u001b[39;00m\n\u001b[1;32m   (...)\u001b[0m\n\u001b[0;32m    367\u001b[0m \n\u001b[0;32m    368\u001b[0m \u001b[38;5;124;03m    \"\"\"\u001b[39;00m\n\u001b[1;32m--> 369\u001b[0m     \u001b[38;5;28;01mreturn\u001b[39;00m \u001b[38;5;28mself\u001b[39m\u001b[38;5;241m.\u001b[39m_execute(\n\u001b[0;32m    370\u001b[0m         line\u001b[38;5;241m=\u001b[39mline, cell\u001b[38;5;241m=\u001b[39mcell, local_ns\u001b[38;5;241m=\u001b[39mlocal_ns, is_interactive_mode\u001b[38;5;241m=\u001b[39m\u001b[38;5;28;01mFalse\u001b[39;00m\n\u001b[0;32m    371\u001b[0m     )\n",
      "File \u001b[1;32mc:\\Users\\nross\\AppData\\Local\\anaconda3\\Lib\\site-packages\\ploomber_core\\telemetry\\telemetry.py:696\u001b[0m, in \u001b[0;36mTelemetry.log_call.<locals>._log_call.<locals>.wrapper\u001b[1;34m(*args, **kwargs)\u001b[0m\n\u001b[0;32m    694\u001b[0m     injected_args \u001b[38;5;241m=\u001b[39m \u001b[38;5;28mlist\u001b[39m(args)\n\u001b[0;32m    695\u001b[0m     injected_args\u001b[38;5;241m.\u001b[39minsert(\u001b[38;5;241m1\u001b[39m, _payload)\n\u001b[1;32m--> 696\u001b[0m     result \u001b[38;5;241m=\u001b[39m func(\u001b[38;5;241m*\u001b[39minjected_args, \u001b[38;5;241m*\u001b[39m\u001b[38;5;241m*\u001b[39mkwargs)\n\u001b[0;32m    697\u001b[0m \u001b[38;5;28;01melse\u001b[39;00m:\n\u001b[0;32m    698\u001b[0m     result \u001b[38;5;241m=\u001b[39m func(_payload, \u001b[38;5;241m*\u001b[39margs, \u001b[38;5;241m*\u001b[39m\u001b[38;5;241m*\u001b[39mkwargs)\n",
      "File \u001b[1;32mc:\\Users\\nross\\AppData\\Local\\anaconda3\\Lib\\site-packages\\ploomber_core\\exceptions.py:128\u001b[0m, in \u001b[0;36mmodify_exceptions.<locals>.wrapper\u001b[1;34m(*args, **kwargs)\u001b[0m\n\u001b[0;32m    125\u001b[0m \u001b[38;5;129m@wraps\u001b[39m(fn)\n\u001b[0;32m    126\u001b[0m \u001b[38;5;28;01mdef\u001b[39;00m \u001b[38;5;21mwrapper\u001b[39m(\u001b[38;5;241m*\u001b[39margs, \u001b[38;5;241m*\u001b[39m\u001b[38;5;241m*\u001b[39mkwargs):\n\u001b[0;32m    127\u001b[0m     \u001b[38;5;28;01mtry\u001b[39;00m:\n\u001b[1;32m--> 128\u001b[0m         \u001b[38;5;28;01mreturn\u001b[39;00m fn(\u001b[38;5;241m*\u001b[39margs, \u001b[38;5;241m*\u001b[39m\u001b[38;5;241m*\u001b[39mkwargs)\n\u001b[0;32m    129\u001b[0m     \u001b[38;5;28;01mexcept\u001b[39;00m (\u001b[38;5;167;01mValueError\u001b[39;00m, \u001b[38;5;167;01mTypeError\u001b[39;00m) \u001b[38;5;28;01mas\u001b[39;00m e:\n\u001b[0;32m    130\u001b[0m         _add_community_link(e)\n",
      "File \u001b[1;32mc:\\Users\\nross\\AppData\\Local\\anaconda3\\Lib\\site-packages\\sql\\magic.py:628\u001b[0m, in \u001b[0;36mSqlMagic._execute\u001b[1;34m(self, payload, line, cell, local_ns, is_interactive_mode)\u001b[0m\n\u001b[0;32m    625\u001b[0m     handle_exception(e, command\u001b[38;5;241m.\u001b[39msql, \u001b[38;5;28mself\u001b[39m\u001b[38;5;241m.\u001b[39mshort_errors)\n\u001b[0;32m    626\u001b[0m \u001b[38;5;28;01mexcept\u001b[39;00m \u001b[38;5;167;01mException\u001b[39;00m \u001b[38;5;28;01mas\u001b[39;00m e:\n\u001b[0;32m    627\u001b[0m     \u001b[38;5;66;03m# Handle non SQLAlchemy errors\u001b[39;00m\n\u001b[1;32m--> 628\u001b[0m     handle_exception(e, command\u001b[38;5;241m.\u001b[39msql, \u001b[38;5;28mself\u001b[39m\u001b[38;5;241m.\u001b[39mshort_errors)\n",
      "File \u001b[1;32mc:\\Users\\nross\\AppData\\Local\\anaconda3\\Lib\\site-packages\\sql\\error_handler.py:115\u001b[0m, in \u001b[0;36mhandle_exception\u001b[1;34m(error, query, short_error)\u001b[0m\n\u001b[0;32m    113\u001b[0m         _display_error_msg_with_trace(error, detailed_message)\n\u001b[0;32m    114\u001b[0m \u001b[38;5;28;01melse\u001b[39;00m:\n\u001b[1;32m--> 115\u001b[0m     \u001b[38;5;28;01mraise\u001b[39;00m error\n",
      "File \u001b[1;32mc:\\Users\\nross\\AppData\\Local\\anaconda3\\Lib\\site-packages\\sql\\magic.py:582\u001b[0m, in \u001b[0;36mSqlMagic._execute\u001b[1;34m(self, payload, line, cell, local_ns, is_interactive_mode)\u001b[0m\n\u001b[0;32m    579\u001b[0m     parameters \u001b[38;5;241m=\u001b[39m user_ns\n\u001b[0;32m    581\u001b[0m \u001b[38;5;28;01mtry\u001b[39;00m:\n\u001b[1;32m--> 582\u001b[0m     result \u001b[38;5;241m=\u001b[39m run_statements(conn, command\u001b[38;5;241m.\u001b[39msql, \u001b[38;5;28mself\u001b[39m, parameters\u001b[38;5;241m=\u001b[39mparameters)\n\u001b[0;32m    584\u001b[0m     \u001b[38;5;28;01mif\u001b[39;00m (\n\u001b[0;32m    585\u001b[0m         result \u001b[38;5;129;01mis\u001b[39;00m \u001b[38;5;129;01mnot\u001b[39;00m \u001b[38;5;28;01mNone\u001b[39;00m\n\u001b[0;32m    586\u001b[0m         \u001b[38;5;129;01mand\u001b[39;00m \u001b[38;5;129;01mnot\u001b[39;00m \u001b[38;5;28misinstance\u001b[39m(result, \u001b[38;5;28mstr\u001b[39m)\n\u001b[1;32m   (...)\u001b[0m\n\u001b[0;32m    589\u001b[0m         \u001b[38;5;66;03m# Instead of returning values, set variables directly in the\u001b[39;00m\n\u001b[0;32m    590\u001b[0m         \u001b[38;5;66;03m# users namespace. Variable names given by column names\u001b[39;00m\n\u001b[0;32m    592\u001b[0m         \u001b[38;5;28;01mif\u001b[39;00m \u001b[38;5;28mself\u001b[39m\u001b[38;5;241m.\u001b[39mautopandas \u001b[38;5;129;01mor\u001b[39;00m \u001b[38;5;28mself\u001b[39m\u001b[38;5;241m.\u001b[39mautopolars:\n",
      "File \u001b[1;32mc:\\Users\\nross\\AppData\\Local\\anaconda3\\Lib\\site-packages\\sql\\run\\run.py:54\u001b[0m, in \u001b[0;36mrun_statements\u001b[1;34m(conn, sql, config, parameters)\u001b[0m\n\u001b[0;32m     50\u001b[0m     result \u001b[38;5;241m=\u001b[39m handle_postgres_special(conn, statement)\n\u001b[0;32m     52\u001b[0m \u001b[38;5;66;03m# regular query\u001b[39;00m\n\u001b[0;32m     53\u001b[0m \u001b[38;5;28;01melse\u001b[39;00m:\n\u001b[1;32m---> 54\u001b[0m     result \u001b[38;5;241m=\u001b[39m conn\u001b[38;5;241m.\u001b[39mraw_execute(statement, parameters\u001b[38;5;241m=\u001b[39mparameters)\n\u001b[0;32m     55\u001b[0m     \u001b[38;5;28;01mif\u001b[39;00m is_spark(conn\u001b[38;5;241m.\u001b[39mdialect) \u001b[38;5;129;01mand\u001b[39;00m config\u001b[38;5;241m.\u001b[39mlazy_execution:\n\u001b[0;32m     56\u001b[0m         \u001b[38;5;28;01mreturn\u001b[39;00m result\u001b[38;5;241m.\u001b[39mdataframe\n",
      "File \u001b[1;32mc:\\Users\\nross\\AppData\\Local\\anaconda3\\Lib\\site-packages\\sql\\connection\\connection.py:1048\u001b[0m, in \u001b[0;36mDBAPIConnection.raw_execute\u001b[1;34m(self, query, parameters, with_)\u001b[0m\n\u001b[0;32m   1045\u001b[0m     query \u001b[38;5;241m=\u001b[39m \u001b[38;5;28mself\u001b[39m\u001b[38;5;241m.\u001b[39m_resolve_cte(query, with_)\n\u001b[0;32m   1047\u001b[0m cur \u001b[38;5;241m=\u001b[39m \u001b[38;5;28mself\u001b[39m\u001b[38;5;241m.\u001b[39m_connection\u001b[38;5;241m.\u001b[39mcursor()\n\u001b[1;32m-> 1048\u001b[0m cur\u001b[38;5;241m.\u001b[39mexecute(query)\n\u001b[0;32m   1050\u001b[0m \u001b[38;5;28;01mif\u001b[39;00m \u001b[38;5;28mself\u001b[39m\u001b[38;5;241m.\u001b[39m_requires_manual_commit:\n\u001b[0;32m   1051\u001b[0m     \u001b[38;5;28mself\u001b[39m\u001b[38;5;241m.\u001b[39m_connection\u001b[38;5;241m.\u001b[39mcommit()\n",
      "\u001b[1;31mDependencyException\u001b[0m: Dependency Error: Cannot alter entry \"vri\" because there are entries that depend on it."
     ]
    }
   ],
   "source": [
    "%%sql\n",
    "ALTER TABLE vri\n",
    "DROP IF EXISTS aflb_fact;\n",
    "\n",
    "ALTER TABLE vri\n",
    "ADD COLUMN aflb_fact FLOAT;\n",
    "\n",
    "UPDATE vri\n",
    "    SET aflb_fact = 1.0\n",
    "        where BCLCS_LEVEL_1 != 'N' AND BCLCS_LEVEL_2 != 'W' AND BCLCS_LEVEL_3 != 'W' AND FOR_MGMT_LAND_BASE_IND != 'N';\n"
   ]
  },
  {
   "cell_type": "code",
   "execution_count": 12,
   "metadata": {},
   "outputs": [
    {
     "data": {
      "text/html": [
       "<span style=\"None\">Running query in &#x27;duckdb&#x27;</span>"
      ],
      "text/plain": [
       "Running query in 'duckdb'"
      ]
     },
     "metadata": {},
     "output_type": "display_data"
    },
    {
     "data": {
      "text/html": [
       "<table>\n",
       "    <thead>\n",
       "        <tr>\n",
       "            <th>(sum(st_area(GEOM)) / 10000)</th>\n",
       "        </tr>\n",
       "    </thead>\n",
       "    <tbody>\n",
       "        <tr>\n",
       "            <td>1799415.026048242</td>\n",
       "        </tr>\n",
       "    </tbody>\n",
       "</table>"
      ],
      "text/plain": [
       "+------------------------------+\n",
       "| (sum(st_area(GEOM)) / 10000) |\n",
       "+------------------------------+\n",
       "|      1799415.026048242       |\n",
       "+------------------------------+"
      ]
     },
     "execution_count": 12,
     "metadata": {},
     "output_type": "execute_result"
    }
   ],
   "source": [
    "%%sql\n",
    "DROP TABLE IF EXISTS aflb;\n",
    "CREATE TABLE aflb as (\n",
    "    SELECT OBJECTID, GEOM\n",
    "    FROM vri\n",
    "    where BCLCS_LEVEL_1 != 'N' AND BCLCS_LEVEL_2 != 'W' AND BCLCS_LEVEL_3 != 'W' AND FOR_MGMT_LAND_BASE_IND != 'N'\n",
    ");\n",
    "\n",
    "SELECT SUM(ST_Area(GEOM))/10000 from aflb"
   ]
  },
  {
   "cell_type": "code",
   "execution_count": 13,
   "metadata": {},
   "outputs": [
    {
     "data": {
      "text/html": [
       "<span style=\"None\">Running query in &#x27;duckdb&#x27;</span>"
      ],
      "text/plain": [
       "Running query in 'duckdb'"
      ]
     },
     "metadata": {},
     "output_type": "display_data"
    },
    {
     "data": {
      "text/html": [
       "<table>\n",
       "    <thead>\n",
       "        <tr>\n",
       "            <th>(sum(st_area(GEOM)) / 10000)</th>\n",
       "        </tr>\n",
       "    </thead>\n",
       "    <tbody>\n",
       "        <tr>\n",
       "            <td>1801013.9162573104</td>\n",
       "        </tr>\n",
       "    </tbody>\n",
       "</table>"
      ],
      "text/plain": [
       "+------------------------------+\n",
       "| (sum(st_area(GEOM)) / 10000) |\n",
       "+------------------------------+\n",
       "|      1801013.9162573104      |\n",
       "+------------------------------+"
      ]
     },
     "execution_count": 13,
     "metadata": {},
     "output_type": "execute_result"
    }
   ],
   "source": [
    "%%sql\n",
    "# Insert cutblock areas to aflb\n",
    "INSERT INTO aflb \n",
    "    SELECT\n",
    "        vri.OBJECTID,\n",
    "        ST_Union_Agg(ST_Intersection(vri.geom, cut.geom)) AS GEOM\n",
    "    FROM vri \n",
    "    JOIN cut ON st_intersects(vri.geom, cut.geom)\n",
    "    WHERE NOT (\n",
    "        BCLCS_LEVEL_1 != 'N' AND BCLCS_LEVEL_2 != 'W' AND BCLCS_LEVEL_3 != 'W' AND FOR_MGMT_LAND_BASE_IND != 'N'\n",
    "        ) --# Only get this outside the \"core area\"\n",
    "    GROUP BY vri.OBJECTID;\n",
    "    \n",
    "SELECT SUM(ST_Area(GEOM))/10000 from aflb;"
   ]
  },
  {
   "cell_type": "code",
   "execution_count": 75,
   "metadata": {},
   "outputs": [
    {
     "data": {
      "text/html": [
       "<span style=\"None\">Running query in &#x27;duckdb&#x27;</span>"
      ],
      "text/plain": [
       "Running query in 'duckdb'"
      ]
     },
     "metadata": {},
     "output_type": "display_data"
    },
    {
     "data": {
      "text/html": [
       "<table>\n",
       "    <thead>\n",
       "        <tr>\n",
       "            <th>Count</th>\n",
       "        </tr>\n",
       "    </thead>\n",
       "    <tbody>\n",
       "        <tr>\n",
       "            <td>0</td>\n",
       "        </tr>\n",
       "    </tbody>\n",
       "</table>"
      ],
      "text/plain": [
       "+-------+\n",
       "| Count |\n",
       "+-------+\n",
       "|   0   |\n",
       "+-------+"
      ]
     },
     "execution_count": 75,
     "metadata": {},
     "output_type": "execute_result"
    }
   ],
   "source": [
    "%%sql\n",
    "# All vri polygons completely covered by FWA - remove these from AFLB\n",
    "DELETE FROM aflb a\n",
    "WHERE ST_CoveredBy(\n",
    "    a.geom,\n",
    "    (\n",
    "        SELECT ST_Union_Agg(b.geom)\n",
    "        FROM fwa_simple as b\n",
    "        where ST_Intersects(a.geom, b.geom)\n",
    "    )\n",
    ")"
   ]
  },
  {
   "cell_type": "code",
   "execution_count": 70,
   "metadata": {},
   "outputs": [
    {
     "data": {
      "text/plain": [
       "(1484686.5139, 1485049.7163000002)"
      ]
     },
     "execution_count": 70,
     "metadata": {},
     "output_type": "execute_result"
    },
    {
     "data": {
      "image/png": "[encoded data removed]",
      "text/plain": [
       "<Figure size 640x480 with 1 Axes>"
      ]
     },
     "metadata": {},
     "output_type": "display_data"
    }
   ],
   "source": [
    "from shapely import plotting\n",
    "import matplotlib.pyplot as plt\n",
    "poly = conn.sql(\"select ST_AsText(fwa.geom) AS fwageom, ST_AsText(aflb.geom) as aflbgeom from aflb JOIN fwa_simple fwa ON ST_Overlaps(aflb.geom, fwa.geom) where aflb.objectid = 3924650\").df()\n",
    "geom1 = from_wkt(poly.iloc[0, 0])\n",
    "geom2 = from_wkt(poly.iloc[0, 1])\n",
    "\n",
    "fig, ax = plt.subplots()\n",
    "plotting.plot_polygon(geom2, ax, color='red')\n",
    "xlim = ax.get_xlim()\n",
    "ylim = ax.get_ylim()\n",
    "plotting.plot_polygon(geom1, ax)\n",
    "ax.set_xlim(xlim)\n",
    "ax.set_ylim(ylim)\n",
    "# ax.plot(*geom1.exterior.xy)\n",
    "# ax.plot(*geom2.exterior.xy)\n",
    "\n",
    "# poly.iloc[0,1]"
   ]
  },
  {
   "cell_type": "code",
   "execution_count": 6,
   "metadata": {},
   "outputs": [
    {
     "data": {
      "text/html": [
       "<span style=\"None\">Running query in &#x27;duckdb&#x27;</span>"
      ],
      "text/plain": [
       "Running query in 'duckdb'"
      ]
     },
     "metadata": {},
     "output_type": "display_data"
    },
    {
     "data": {
      "text/html": [
       "<table>\n",
       "    <thead>\n",
       "        <tr>\n",
       "            <th>count(aflb.objectid)</th>\n",
       "        </tr>\n",
       "    </thead>\n",
       "    <tbody>\n",
       "        <tr>\n",
       "            <td>50175</td>\n",
       "        </tr>\n",
       "    </tbody>\n",
       "</table>"
      ],
      "text/plain": [
       "+----------------------+\n",
       "| count(aflb.objectid) |\n",
       "+----------------------+\n",
       "|        50175         |\n",
       "+----------------------+"
      ]
     },
     "execution_count": 6,
     "metadata": {},
     "output_type": "execute_result"
    }
   ],
   "source": [
    "%%sql\n",
    "select count(aflb.objectid)\n",
    "    # COUNT_IF (ST_Overlaps(aflb.geom, fwa.geom))\n",
    "from aflb JOIN fwa_simple fwa ON ST_Overlaps(aflb.geom, fwa.geom)"
   ]
  },
  {
   "cell_type": "code",
   "execution_count": 7,
   "metadata": {},
   "outputs": [
    {
     "data": {
      "text/html": [
       "<span style=\"None\">Running query in &#x27;duckdb&#x27;</span>"
      ],
      "text/plain": [
       "Running query in 'duckdb'"
      ]
     },
     "metadata": {},
     "output_type": "display_data"
    },
    {
     "ename": "OutOfMemoryException",
     "evalue": "Out of Memory Error: failed to allocate data of size 16.0 MiB (24.9 GiB/25.0 GiB used)",
     "output_type": "error",
     "traceback": [
      "\u001b[1;31m---------------------------------------------------------------------------\u001b[0m",
      "\u001b[1;31mOutOfMemoryException\u001b[0m                      Traceback (most recent call last)",
      "Cell \u001b[1;32mIn[7], line 1\u001b[0m\n\u001b[1;32m----> 1\u001b[0m get_ipython()\u001b[38;5;241m.\u001b[39mrun_cell_magic(\u001b[38;5;124m'\u001b[39m\u001b[38;5;124msql\u001b[39m\u001b[38;5;124m'\u001b[39m, \u001b[38;5;124m'\u001b[39m\u001b[38;5;124m'\u001b[39m, \u001b[38;5;124m\"\u001b[39m\u001b[38;5;124m# remove FWA areas from AFLB geometry\u001b[39m\u001b[38;5;130;01m\\n\u001b[39;00m\u001b[38;5;124m# If this doesn\u001b[39m\u001b[38;5;124m'\u001b[39m\u001b[38;5;124mt work then try just getting the area of intersect and not updating geometry. After intersecting with ownership\u001b[39m\u001b[38;5;130;01m\\n\u001b[39;00m\u001b[38;5;124mUPDATE aflb\u001b[39m\u001b[38;5;130;01m\\n\u001b[39;00m\u001b[38;5;124mSET GEOM = clip.GEOM\u001b[39m\u001b[38;5;130;01m\\n\u001b[39;00m\u001b[38;5;124mFROM aflb a_old\u001b[39m\u001b[38;5;130;01m\\n\u001b[39;00m\u001b[38;5;124mINNER JOIN (\u001b[39m\u001b[38;5;130;01m\\n\u001b[39;00m\u001b[38;5;124m    SELECT\u001b[39m\u001b[38;5;130;01m\\n\u001b[39;00m\u001b[38;5;124m        aflb.OBJECTID, \u001b[39m\u001b[38;5;130;01m\\n\u001b[39;00m\u001b[38;5;124m        ST_Difference(aflb.geom, ST_Union_Agg(fwa.geom)) AS geom\u001b[39m\u001b[38;5;130;01m\\n\u001b[39;00m\u001b[38;5;124m    FROM aflb\u001b[39m\u001b[38;5;130;01m\\n\u001b[39;00m\u001b[38;5;124m        JOIN fwa_simple fwa ON ST_Overlaps(aflb.geom, fwa.geom)\u001b[39m\u001b[38;5;130;01m\\n\u001b[39;00m\u001b[38;5;124m    GROUP BY aflb.OBJECTID, aflb.geom\u001b[39m\u001b[38;5;130;01m\\n\u001b[39;00m\u001b[38;5;124m    ) clip ON a_old.OBJECTID = clip.OBJECTID\u001b[39m\u001b[38;5;130;01m\\n\u001b[39;00m\u001b[38;5;124m\"\u001b[39m)\n",
      "File \u001b[1;32mc:\\Users\\nross\\AppData\\Local\\anaconda3\\Lib\\site-packages\\IPython\\core\\interactiveshell.py:2517\u001b[0m, in \u001b[0;36mInteractiveShell.run_cell_magic\u001b[1;34m(self, magic_name, line, cell)\u001b[0m\n\u001b[0;32m   2515\u001b[0m \u001b[38;5;28;01mwith\u001b[39;00m \u001b[38;5;28mself\u001b[39m\u001b[38;5;241m.\u001b[39mbuiltin_trap:\n\u001b[0;32m   2516\u001b[0m     args \u001b[38;5;241m=\u001b[39m (magic_arg_s, cell)\n\u001b[1;32m-> 2517\u001b[0m     result \u001b[38;5;241m=\u001b[39m fn(\u001b[38;5;241m*\u001b[39margs, \u001b[38;5;241m*\u001b[39m\u001b[38;5;241m*\u001b[39mkwargs)\n\u001b[0;32m   2519\u001b[0m \u001b[38;5;66;03m# The code below prevents the output from being displayed\u001b[39;00m\n\u001b[0;32m   2520\u001b[0m \u001b[38;5;66;03m# when using magics with decorator @output_can_be_silenced\u001b[39;00m\n\u001b[0;32m   2521\u001b[0m \u001b[38;5;66;03m# when the last Python token in the expression is a ';'.\u001b[39;00m\n\u001b[0;32m   2522\u001b[0m \u001b[38;5;28;01mif\u001b[39;00m \u001b[38;5;28mgetattr\u001b[39m(fn, magic\u001b[38;5;241m.\u001b[39mMAGIC_OUTPUT_CAN_BE_SILENCED, \u001b[38;5;28;01mFalse\u001b[39;00m):\n",
      "File \u001b[1;32mc:\\Users\\nross\\AppData\\Local\\anaconda3\\Lib\\site-packages\\sql\\magic.py:369\u001b[0m, in \u001b[0;36mSqlMagic.execute\u001b[1;34m(self, line, cell, local_ns)\u001b[0m\n\u001b[0;32m    261\u001b[0m \u001b[38;5;129m@no_var_expand\u001b[39m\n\u001b[0;32m    262\u001b[0m \u001b[38;5;129m@needs_local_scope\u001b[39m\n\u001b[0;32m    263\u001b[0m \u001b[38;5;129m@line_magic\u001b[39m(\u001b[38;5;124m\"\u001b[39m\u001b[38;5;124msql\u001b[39m\u001b[38;5;124m\"\u001b[39m)\n\u001b[1;32m   (...)\u001b[0m\n\u001b[0;32m    341\u001b[0m )\n\u001b[0;32m    342\u001b[0m \u001b[38;5;28;01mdef\u001b[39;00m \u001b[38;5;21mexecute\u001b[39m(\u001b[38;5;28mself\u001b[39m, line\u001b[38;5;241m=\u001b[39m\u001b[38;5;124m\"\u001b[39m\u001b[38;5;124m\"\u001b[39m, cell\u001b[38;5;241m=\u001b[39m\u001b[38;5;124m\"\u001b[39m\u001b[38;5;124m\"\u001b[39m, local_ns\u001b[38;5;241m=\u001b[39m\u001b[38;5;28;01mNone\u001b[39;00m):\n\u001b[0;32m    343\u001b[0m \u001b[38;5;250m    \u001b[39m\u001b[38;5;124;03m\"\"\"\u001b[39;00m\n\u001b[0;32m    344\u001b[0m \u001b[38;5;124;03m    Runs SQL statement against a database, specified by\u001b[39;00m\n\u001b[0;32m    345\u001b[0m \u001b[38;5;124;03m    SQLAlchemy connect string.\u001b[39;00m\n\u001b[1;32m   (...)\u001b[0m\n\u001b[0;32m    367\u001b[0m \n\u001b[0;32m    368\u001b[0m \u001b[38;5;124;03m    \"\"\"\u001b[39;00m\n\u001b[1;32m--> 369\u001b[0m     \u001b[38;5;28;01mreturn\u001b[39;00m \u001b[38;5;28mself\u001b[39m\u001b[38;5;241m.\u001b[39m_execute(\n\u001b[0;32m    370\u001b[0m         line\u001b[38;5;241m=\u001b[39mline, cell\u001b[38;5;241m=\u001b[39mcell, local_ns\u001b[38;5;241m=\u001b[39mlocal_ns, is_interactive_mode\u001b[38;5;241m=\u001b[39m\u001b[38;5;28;01mFalse\u001b[39;00m\n\u001b[0;32m    371\u001b[0m     )\n",
      "File \u001b[1;32mc:\\Users\\nross\\AppData\\Local\\anaconda3\\Lib\\site-packages\\ploomber_core\\telemetry\\telemetry.py:696\u001b[0m, in \u001b[0;36mTelemetry.log_call.<locals>._log_call.<locals>.wrapper\u001b[1;34m(*args, **kwargs)\u001b[0m\n\u001b[0;32m    694\u001b[0m     injected_args \u001b[38;5;241m=\u001b[39m \u001b[38;5;28mlist\u001b[39m(args)\n\u001b[0;32m    695\u001b[0m     injected_args\u001b[38;5;241m.\u001b[39minsert(\u001b[38;5;241m1\u001b[39m, _payload)\n\u001b[1;32m--> 696\u001b[0m     result \u001b[38;5;241m=\u001b[39m func(\u001b[38;5;241m*\u001b[39minjected_args, \u001b[38;5;241m*\u001b[39m\u001b[38;5;241m*\u001b[39mkwargs)\n\u001b[0;32m    697\u001b[0m \u001b[38;5;28;01melse\u001b[39;00m:\n\u001b[0;32m    698\u001b[0m     result \u001b[38;5;241m=\u001b[39m func(_payload, \u001b[38;5;241m*\u001b[39margs, \u001b[38;5;241m*\u001b[39m\u001b[38;5;241m*\u001b[39mkwargs)\n",
      "File \u001b[1;32mc:\\Users\\nross\\AppData\\Local\\anaconda3\\Lib\\site-packages\\ploomber_core\\exceptions.py:128\u001b[0m, in \u001b[0;36mmodify_exceptions.<locals>.wrapper\u001b[1;34m(*args, **kwargs)\u001b[0m\n\u001b[0;32m    125\u001b[0m \u001b[38;5;129m@wraps\u001b[39m(fn)\n\u001b[0;32m    126\u001b[0m \u001b[38;5;28;01mdef\u001b[39;00m \u001b[38;5;21mwrapper\u001b[39m(\u001b[38;5;241m*\u001b[39margs, \u001b[38;5;241m*\u001b[39m\u001b[38;5;241m*\u001b[39mkwargs):\n\u001b[0;32m    127\u001b[0m     \u001b[38;5;28;01mtry\u001b[39;00m:\n\u001b[1;32m--> 128\u001b[0m         \u001b[38;5;28;01mreturn\u001b[39;00m fn(\u001b[38;5;241m*\u001b[39margs, \u001b[38;5;241m*\u001b[39m\u001b[38;5;241m*\u001b[39mkwargs)\n\u001b[0;32m    129\u001b[0m     \u001b[38;5;28;01mexcept\u001b[39;00m (\u001b[38;5;167;01mValueError\u001b[39;00m, \u001b[38;5;167;01mTypeError\u001b[39;00m) \u001b[38;5;28;01mas\u001b[39;00m e:\n\u001b[0;32m    130\u001b[0m         _add_community_link(e)\n",
      "File \u001b[1;32mc:\\Users\\nross\\AppData\\Local\\anaconda3\\Lib\\site-packages\\sql\\magic.py:628\u001b[0m, in \u001b[0;36mSqlMagic._execute\u001b[1;34m(self, payload, line, cell, local_ns, is_interactive_mode)\u001b[0m\n\u001b[0;32m    625\u001b[0m     handle_exception(e, command\u001b[38;5;241m.\u001b[39msql, \u001b[38;5;28mself\u001b[39m\u001b[38;5;241m.\u001b[39mshort_errors)\n\u001b[0;32m    626\u001b[0m \u001b[38;5;28;01mexcept\u001b[39;00m \u001b[38;5;167;01mException\u001b[39;00m \u001b[38;5;28;01mas\u001b[39;00m e:\n\u001b[0;32m    627\u001b[0m     \u001b[38;5;66;03m# Handle non SQLAlchemy errors\u001b[39;00m\n\u001b[1;32m--> 628\u001b[0m     handle_exception(e, command\u001b[38;5;241m.\u001b[39msql, \u001b[38;5;28mself\u001b[39m\u001b[38;5;241m.\u001b[39mshort_errors)\n",
      "File \u001b[1;32mc:\\Users\\nross\\AppData\\Local\\anaconda3\\Lib\\site-packages\\sql\\error_handler.py:115\u001b[0m, in \u001b[0;36mhandle_exception\u001b[1;34m(error, query, short_error)\u001b[0m\n\u001b[0;32m    113\u001b[0m         _display_error_msg_with_trace(error, detailed_message)\n\u001b[0;32m    114\u001b[0m \u001b[38;5;28;01melse\u001b[39;00m:\n\u001b[1;32m--> 115\u001b[0m     \u001b[38;5;28;01mraise\u001b[39;00m error\n",
      "File \u001b[1;32mc:\\Users\\nross\\AppData\\Local\\anaconda3\\Lib\\site-packages\\sql\\magic.py:582\u001b[0m, in \u001b[0;36mSqlMagic._execute\u001b[1;34m(self, payload, line, cell, local_ns, is_interactive_mode)\u001b[0m\n\u001b[0;32m    579\u001b[0m     parameters \u001b[38;5;241m=\u001b[39m user_ns\n\u001b[0;32m    581\u001b[0m \u001b[38;5;28;01mtry\u001b[39;00m:\n\u001b[1;32m--> 582\u001b[0m     result \u001b[38;5;241m=\u001b[39m run_statements(conn, command\u001b[38;5;241m.\u001b[39msql, \u001b[38;5;28mself\u001b[39m, parameters\u001b[38;5;241m=\u001b[39mparameters)\n\u001b[0;32m    584\u001b[0m     \u001b[38;5;28;01mif\u001b[39;00m (\n\u001b[0;32m    585\u001b[0m         result \u001b[38;5;129;01mis\u001b[39;00m \u001b[38;5;129;01mnot\u001b[39;00m \u001b[38;5;28;01mNone\u001b[39;00m\n\u001b[0;32m    586\u001b[0m         \u001b[38;5;129;01mand\u001b[39;00m \u001b[38;5;129;01mnot\u001b[39;00m \u001b[38;5;28misinstance\u001b[39m(result, \u001b[38;5;28mstr\u001b[39m)\n\u001b[1;32m   (...)\u001b[0m\n\u001b[0;32m    589\u001b[0m         \u001b[38;5;66;03m# Instead of returning values, set variables directly in the\u001b[39;00m\n\u001b[0;32m    590\u001b[0m         \u001b[38;5;66;03m# users namespace. Variable names given by column names\u001b[39;00m\n\u001b[0;32m    592\u001b[0m         \u001b[38;5;28;01mif\u001b[39;00m \u001b[38;5;28mself\u001b[39m\u001b[38;5;241m.\u001b[39mautopandas \u001b[38;5;129;01mor\u001b[39;00m \u001b[38;5;28mself\u001b[39m\u001b[38;5;241m.\u001b[39mautopolars:\n",
      "File \u001b[1;32mc:\\Users\\nross\\AppData\\Local\\anaconda3\\Lib\\site-packages\\sql\\run\\run.py:54\u001b[0m, in \u001b[0;36mrun_statements\u001b[1;34m(conn, sql, config, parameters)\u001b[0m\n\u001b[0;32m     50\u001b[0m     result \u001b[38;5;241m=\u001b[39m handle_postgres_special(conn, statement)\n\u001b[0;32m     52\u001b[0m \u001b[38;5;66;03m# regular query\u001b[39;00m\n\u001b[0;32m     53\u001b[0m \u001b[38;5;28;01melse\u001b[39;00m:\n\u001b[1;32m---> 54\u001b[0m     result \u001b[38;5;241m=\u001b[39m conn\u001b[38;5;241m.\u001b[39mraw_execute(statement, parameters\u001b[38;5;241m=\u001b[39mparameters)\n\u001b[0;32m     55\u001b[0m     \u001b[38;5;28;01mif\u001b[39;00m is_spark(conn\u001b[38;5;241m.\u001b[39mdialect) \u001b[38;5;129;01mand\u001b[39;00m config\u001b[38;5;241m.\u001b[39mlazy_execution:\n\u001b[0;32m     56\u001b[0m         \u001b[38;5;28;01mreturn\u001b[39;00m result\u001b[38;5;241m.\u001b[39mdataframe\n",
      "File \u001b[1;32mc:\\Users\\nross\\AppData\\Local\\anaconda3\\Lib\\site-packages\\sql\\connection\\connection.py:1048\u001b[0m, in \u001b[0;36mDBAPIConnection.raw_execute\u001b[1;34m(self, query, parameters, with_)\u001b[0m\n\u001b[0;32m   1045\u001b[0m     query \u001b[38;5;241m=\u001b[39m \u001b[38;5;28mself\u001b[39m\u001b[38;5;241m.\u001b[39m_resolve_cte(query, with_)\n\u001b[0;32m   1047\u001b[0m cur \u001b[38;5;241m=\u001b[39m \u001b[38;5;28mself\u001b[39m\u001b[38;5;241m.\u001b[39m_connection\u001b[38;5;241m.\u001b[39mcursor()\n\u001b[1;32m-> 1048\u001b[0m cur\u001b[38;5;241m.\u001b[39mexecute(query)\n\u001b[0;32m   1050\u001b[0m \u001b[38;5;28;01mif\u001b[39;00m \u001b[38;5;28mself\u001b[39m\u001b[38;5;241m.\u001b[39m_requires_manual_commit:\n\u001b[0;32m   1051\u001b[0m     \u001b[38;5;28mself\u001b[39m\u001b[38;5;241m.\u001b[39m_connection\u001b[38;5;241m.\u001b[39mcommit()\n",
      "\u001b[1;31mOutOfMemoryException\u001b[0m: Out of Memory Error: failed to allocate data of size 16.0 MiB (24.9 GiB/25.0 GiB used)"
     ]
    }
   ],
   "source": [
    "%%sql\n",
    "# remove FWA areas from AFLB geometry\n",
    "# If this doesn't work then try just getting the area of intersect and not updating geometry. After intersecting with ownership\n",
    "UPDATE aflb\n",
    "SET GEOM = clip.GEOM\n",
    "FROM aflb a_old\n",
    "INNER JOIN (\n",
    "    SELECT\n",
    "        aflb.OBJECTID, \n",
    "        ST_Difference(aflb.geom, ST_Union_Agg(fwa.geom)) AS geom\n",
    "    FROM aflb\n",
    "        JOIN fwa_simple fwa ON ST_Overlaps(aflb.geom, fwa.geom)\n",
    "    GROUP BY aflb.OBJECTID, aflb.geom\n",
    "    ) clip ON a_old.OBJECTID = clip.OBJECTID"
   ]
  },
  {
   "cell_type": "code",
   "execution_count": 21,
   "metadata": {},
   "outputs": [
    {
     "data": {
      "text/html": [
       "<span style=\"None\">Running query in &#x27;duckdb&#x27;</span>"
      ],
      "text/plain": [
       "Running query in 'duckdb'"
      ]
     },
     "metadata": {},
     "output_type": "display_data"
    },
    {
     "data": {
      "text/html": [
       "<table>\n",
       "    <thead>\n",
       "        <tr>\n",
       "            <th>OBJECTID</th>\n",
       "            <th>count</th>\n",
       "            <th>fwaarea</th>\n",
       "            <th>aflbArea</th>\n",
       "        </tr>\n",
       "    </thead>\n",
       "    <tbody>\n",
       "        <tr>\n",
       "            <td>3753855</td>\n",
       "            <td>1</td>\n",
       "            <td>401.0847215318316</td>\n",
       "            <td>2.5851900827120464</td>\n",
       "        </tr>\n",
       "        <tr>\n",
       "            <td>254493</td>\n",
       "            <td>1</td>\n",
       "            <td>2756.159550418038</td>\n",
       "            <td>1.4723503557581523</td>\n",
       "        </tr>\n",
       "        <tr>\n",
       "            <td>2149491</td>\n",
       "            <td>1</td>\n",
       "            <td>459.34295341170383</td>\n",
       "            <td>2.029115823798048</td>\n",
       "        </tr>\n",
       "        <tr>\n",
       "            <td>3268131</td>\n",
       "            <td>1</td>\n",
       "            <td>2756.159550418038</td>\n",
       "            <td>5.151163839339458</td>\n",
       "        </tr>\n",
       "        <tr>\n",
       "            <td>593471</td>\n",
       "            <td>1</td>\n",
       "            <td>4.630195586350329</td>\n",
       "            <td>0.1333565595766157</td>\n",
       "        </tr>\n",
       "    </tbody>\n",
       "</table>"
      ],
      "text/plain": [
       "+----------+-------+--------------------+--------------------+\n",
       "| OBJECTID | count |      fwaarea       |      aflbArea      |\n",
       "+----------+-------+--------------------+--------------------+\n",
       "| 3753855  |   1   | 401.0847215318316  | 2.5851900827120464 |\n",
       "|  254493  |   1   | 2756.159550418038  | 1.4723503557581523 |\n",
       "| 2149491  |   1   | 459.34295341170383 | 2.029115823798048  |\n",
       "| 3268131  |   1   | 2756.159550418038  | 5.151163839339458  |\n",
       "|  593471  |   1   | 4.630195586350329  | 0.1333565595766157 |\n",
       "+----------+-------+--------------------+--------------------+"
      ]
     },
     "execution_count": 21,
     "metadata": {},
     "output_type": "execute_result"
    }
   ],
   "source": [
    "%%sql \n",
    "# Reduce the AFLB area based on simplified FWA area overlap\n",
    "# This worked once in a reasonable time....\n",
    "UPDATE aflb\n",
    "SET AreaHa = clip.aflbArea\n",
    "FROM aflb a_old\n",
    "INNER JOIN (\n",
    "SELECT\n",
    "    aflb.OBJECTID, \n",
    "    ST_AREA(ST_Union_Agg(ST_Difference(aflb.geom, fwa.geom)))/10000 as aflbArea\n",
    "FROM aflb\n",
    "    JOIN fwa_simple fwa ON st_intersects(aflb.geom, fwa.geom)\n",
    "GROUP BY aflb.OBJECTID\n",
    ") clip ON a_old.OBJECTID = clip.OBJECTID"
   ]
  },
  {
   "cell_type": "code",
   "execution_count": 15,
   "metadata": {},
   "outputs": [
    {
     "data": {
      "text/html": [
       "<span style=\"None\">Running query in &#x27;duckdb&#x27;</span>"
      ],
      "text/plain": [
       "Running query in 'duckdb'"
      ]
     },
     "metadata": {},
     "output_type": "display_data"
    },
    {
     "data": {
      "text/html": [
       "<table>\n",
       "    <thead>\n",
       "        <tr>\n",
       "            <th>Count</th>\n",
       "        </tr>\n",
       "    </thead>\n",
       "    <tbody>\n",
       "        <tr>\n",
       "            <td>188941</td>\n",
       "        </tr>\n",
       "    </tbody>\n",
       "</table>"
      ],
      "text/plain": [
       "+--------+\n",
       "| Count  |\n",
       "+--------+\n",
       "| 188941 |\n",
       "+--------+"
      ]
     },
     "execution_count": 15,
     "metadata": {},
     "output_type": "execute_result"
    }
   ],
   "source": [
    "%%sql\n",
    "# Intersect AFLB with ownership layer\n",
    "\n",
    "CREATE OR REPLACE TABLE AFLB_own AS (\n",
    "    SELECT OBJECTID, OWN_AFLB, ST_Area(GEOM)/10000 as AreaHa, GEOM\n",
    "    FROM (\n",
    "        SELECT aflb.OBJECTID, ST_Intersection(aflb.geom, own.geom) AS GEOM,\n",
    "                own.OWN_AFLB as OWN_AFLB\n",
    "        FROM aflb\n",
    "            JOIN own ON st_intersects(aflb.geom, own.geom)\n",
    "    )\n",
    ");"
   ]
  },
  {
   "cell_type": "code",
   "execution_count": 16,
   "metadata": {},
   "outputs": [
    {
     "data": {
      "text/html": [
       "<span style=\"None\">Running query in &#x27;duckdb&#x27;</span>"
      ],
      "text/plain": [
       "Running query in 'duckdb'"
      ]
     },
     "metadata": {},
     "output_type": "display_data"
    },
    {
     "data": {
      "text/html": [
       "<table>\n",
       "    <thead>\n",
       "        <tr>\n",
       "            <th>Count</th>\n",
       "        </tr>\n",
       "    </thead>\n",
       "    <tbody>\n",
       "        <tr>\n",
       "            <td>0</td>\n",
       "        </tr>\n",
       "    </tbody>\n",
       "</table>"
      ],
      "text/plain": [
       "+-------+\n",
       "| Count |\n",
       "+-------+\n",
       "|   0   |\n",
       "+-------+"
      ]
     },
     "execution_count": 16,
     "metadata": {},
     "output_type": "execute_result"
    }
   ],
   "source": [
    "%%sql\n",
    "# add AFLB factor\n",
    "UPDATE vri\n",
    "SET aflb_fact = aflb.AreaHa / vri.POLYGON_AREA\n",
    "FROM AFLB_own aflb\n",
    "WHERE vri.OBJECTID = aflb.OBJECTID\n",
    "AND aflb.OWN_AFLB = 'AFLB';\n",
    "\n",
    "UPDATE vri\n",
    "SET aflb_fact = 0\n",
    "WHERE aflb_fact IS NULL;"
   ]
  },
  {
   "cell_type": "code",
   "execution_count": 11,
   "metadata": {},
   "outputs": [
    {
     "data": {
      "text/html": [
       "<span style=\"None\">Running query in &#x27;duckdb&#x27;</span>"
      ],
      "text/plain": [
       "Running query in 'duckdb'"
      ]
     },
     "metadata": {},
     "output_type": "display_data"
    },
    {
     "data": {
      "text/html": [
       "<table>\n",
       "    <thead>\n",
       "        <tr>\n",
       "            <th>Count</th>\n",
       "        </tr>\n",
       "    </thead>\n",
       "    <tbody>\n",
       "    </tbody>\n",
       "</table>"
      ],
      "text/plain": [
       "+-------+\n",
       "| Count |\n",
       "+-------+\n",
       "+-------+"
      ]
     },
     "execution_count": 11,
     "metadata": {},
     "output_type": "execute_result"
    }
   ],
   "source": [
    "%%sql\n",
    "# add IFLB\n",
    "CREATE VIEW iflb_fact_v as\n",
    "SELECT a_new.OBJECTID,\n",
    "    SUM(a_new.AreaHa) / SUM(vri.POLYGON_AREA) as iflb_fact\n",
    "FROM aflb_own a_new\n",
    "    JOIN vri USING (OBJECTID)\n",
    "GROUP BY a_new.OBJECTID;\n",
    "\n",
    "ALTER TABLE vri\n",
    "ADD COLUMN IF NOT EXISTS iflb_fact DOUBLE;\n",
    "\n",
    "UPDATE vri v\n",
    "SET iflb_fact = i.iflb_fact\n",
    "FROM iflb_fact_v i\n",
    "WHERE v.OBJECTID = i.OBJECTID"
   ]
  },
  {
   "cell_type": "code",
   "execution_count": 37,
   "metadata": {},
   "outputs": [
    {
     "data": {
      "text/html": [
       "<span style=\"None\">Running query in &#x27;duckdb&#x27;</span>"
      ],
      "text/plain": [
       "Running query in 'duckdb'"
      ]
     },
     "metadata": {},
     "output_type": "display_data"
    }
   ],
   "source": [
    "%%sql\n",
    "# Add AFLB area\n",
    "# This seems to not be working...\n",
    "# Copy AFLB from AFLB database\n",
    "# ATTACH IF NOT EXISTS 'C:\\Users\\nross\\OneDrive - Government of BC\\Documents\\BRFNDocs\\aflb-test\\aflb.db' AS aflb_db;\n",
    "ALTER TABLE vri_wmb \n",
    "ADD COLUMN IF NOT EXISTS aflb_fact\n",
    "SELECT \n",
    "    IF( a.OWN_AFLB = 'AFLB',\n",
    "        IF(ST_Intersects(vri.GEOM, ST_Boundary(a.GEOM)), \n",
    "            ST_Area(ST_Intersection(vri.GEOM, a.GEOM))*10000 / vri.POLYGON_AREA,\n",
    "            1\n",
    "         ), 0\n",
    "        ) AS aflb_fact,\n",
    "    \n",
    "    IF( a.OWN_AFLB = 'IFLB',\n",
    "        IF(ST_Intersects(vri.GEOM, ST_Boundary(a.GEOM)), \n",
    "            ST_Area(ST_Intersection(vri.GEOM, a.GEOM))*10000 / vri.POLYGON_AREA,\n",
    "            1\n",
    "         ), 0\n",
    "        ) AS IFLB_fact,\n",
    "       \n",
    "    FROM vri, aflb_db.aflb a\n",
    "WHERE \n",
    "    vri.BCLCS_LEVEL_1 != 'N' AND vri.BCLCS_LEVEL_2 != 'W' AND vri.BCLCS_LEVEL_3 != 'W' AND vri.FOR_MGMT_LAND_BASE_IND != 'N'\n",
    "    AND\n",
    "    ST_INTERSECTS(vri.GEOM, a.GEOM)\n",
    "\n",
    "# DETACH aflb_db\n",
    "\n"
   ]
  },
  {
   "cell_type": "code",
   "execution_count": 9,
   "metadata": {},
   "outputs": [
    {
     "data": {
      "text/html": [
       "<span style=\"None\">Running query in &#x27;duckdb&#x27;</span>"
      ],
      "text/plain": [
       "Running query in 'duckdb'"
      ]
     },
     "metadata": {},
     "output_type": "display_data"
    },
    {
     "data": {
      "text/html": [
       "<table>\n",
       "    <thead>\n",
       "        <tr>\n",
       "            <th>VRIAreaHa</th>\n",
       "            <th>AOIAreaHa</th>\n",
       "        </tr>\n",
       "    </thead>\n",
       "    <tbody>\n",
       "        <tr>\n",
       "            <td>2,179,740.98</td>\n",
       "            <td>2,179,741.04</td>\n",
       "        </tr>\n",
       "    </tbody>\n",
       "</table>"
      ],
      "text/plain": [
       "+--------------+--------------+\n",
       "|  VRIAreaHa   |  AOIAreaHa   |\n",
       "+--------------+--------------+\n",
       "| 2,179,740.98 | 2,179,741.04 |\n",
       "+--------------+--------------+"
      ]
     },
     "execution_count": 9,
     "metadata": {},
     "output_type": "execute_result"
    }
   ],
   "source": [
    "# check if VRI area roughly matches AOI input. \n",
    "%sql select FORMAT('{:t,.2f}', sum(polygon_area)) AS VRIAreaHa, FORMAT('{:t,.2f}', {{aoi_area_ha}}) as AOIAreaHa from vri"
   ]
  },
  {
   "cell_type": "markdown",
   "metadata": {},
   "source": [
    "<h2>Deciduous Percent</h2>\n",
    "\n",
    "Calculate Deciduous Percent and Stand Type. We use 25% cutoff.\n",
    "\n",
    "The <a>VRI Data Dictionary</a> lists tree species codes under the entry for SPECIES_CD_1. All \"hardwood species\" codes were put into deciduousList, although most do not occur in our study area (especially as leading species). We only use the first letter to catch entries which only look at first letter (e.g. undifferentiated poplar = 'A')\n",
    "\n"
   ]
  },
  {
   "cell_type": "code",
   "execution_count": 31,
   "metadata": {},
   "outputs": [],
   "source": [
    "# Create deciduous % column\n",
    "deciduousList = ['A', 'D', 'E', 'G', 'K', 'M', 'Q', 'R', 'U', 'V', 'W']\n",
    "deciduousListStr = (\"(\\'\" + \"\\', \\'\".join(deciduousList) + \"\\')\")"
   ]
  },
  {
   "cell_type": "code",
   "execution_count": 32,
   "metadata": {},
   "outputs": [
    {
     "data": {
      "text/html": [
       "<span style=\"None\">Running query in &#x27;duckdb&#x27;</span>"
      ],
      "text/plain": [
       "Running query in 'duckdb'"
      ]
     },
     "metadata": {},
     "output_type": "display_data"
    },
    {
     "data": {
      "text/html": [
       "<table>\n",
       "    <thead>\n",
       "        <tr>\n",
       "            <th>Count</th>\n",
       "        </tr>\n",
       "    </thead>\n",
       "    <tbody>\n",
       "        <tr>\n",
       "            <td>188049</td>\n",
       "        </tr>\n",
       "    </tbody>\n",
       "</table>"
      ],
      "text/plain": [
       "+--------+\n",
       "| Count  |\n",
       "+--------+\n",
       "| 188049 |\n",
       "+--------+"
      ]
     },
     "execution_count": 32,
     "metadata": {},
     "output_type": "execute_result"
    }
   ],
   "source": [
    "%%sql\n",
    "ALTER TABLE vri \n",
    "ADD COLUMN IF NOT EXISTS DECID_PCT DOUBLE;\n",
    "\n",
    "ALTER TABLE vri \n",
    "ADD COLUMN IF NOT EXISTS STAND_TYPE_25 VARCHAR;\n",
    "\n",
    "# For each of the six species codes, if the first letter is in our list of deciduous species, add it to our DECID_PCT column. Else add zero.\n",
    "UPDATE vri\n",
    "SET DECID_PCT = (\n",
    "  CASE WHEN SPECIES_CD_1[:1] IN {{deciduousListStr}} THEN SPECIES_PCT_1 ELSE 0 END +\n",
    "  CASE WHEN SPECIES_CD_2[:1] IN {{deciduousListStr}} THEN SPECIES_PCT_2 ELSE 0 END +\n",
    "  CASE WHEN SPECIES_CD_3[:1] IN {{deciduousListStr}} THEN SPECIES_PCT_3 ELSE 0 END +\n",
    "  CASE WHEN SPECIES_CD_4[:1] IN {{deciduousListStr}} THEN SPECIES_PCT_4 ELSE 0 END +\n",
    "  CASE WHEN SPECIES_CD_5[:1] IN {{deciduousListStr}} THEN SPECIES_PCT_5 ELSE 0 END +\n",
    "  CASE WHEN SPECIES_CD_6[:1] IN {{deciduousListStr}} THEN SPECIES_PCT_6 ELSE 0 END\n",
    ");\n",
    "\n",
    "# If no leading species is listed (SPECIES_CD_1 = NULL), set DECID_PCT to NULL.\n",
    "UPDATE vri\n",
    "SET DECID_PCT = (\n",
    "  CASE WHEN SPECIES_CD_1 IS NULL THEN NULL ELSE DECID_PCT END\n",
    ");\n",
    "\n",
    "# Use 25% cutoffs to assign a stand type. If DECID_PCT is NULL then set this to NULL.\n",
    "UPDATE vri\n",
    "SET STAND_TYPE_25 = (\n",
    "  CASE WHEN DECID_PCT <= 25 THEN 'Coniferous' ELSE \n",
    "    CASE WHEN DECID_PCT >= 75 THEN 'Deciduous' ELSE \n",
    "      CASE WHEN DECID_PCT IS NOT NULL THEN 'Mixed' ELSE NULL END\n",
    "    END\n",
    "  END\n",
    ");"
   ]
  },
  {
   "cell_type": "code",
   "execution_count": 12,
   "metadata": {},
   "outputs": [
    {
     "data": {
      "text/html": [
       "<span style=\"None\">Running query in &#x27;duckdb&#x27;</span>"
      ],
      "text/plain": [
       "Running query in 'duckdb'"
      ]
     },
     "metadata": {},
     "output_type": "display_data"
    },
    {
     "data": {
      "text/html": [
       "<table>\n",
       "    <thead>\n",
       "        <tr>\n",
       "            <th>max(DECID_PCT)</th>\n",
       "        </tr>\n",
       "    </thead>\n",
       "    <tbody>\n",
       "        <tr>\n",
       "            <td>100.0</td>\n",
       "        </tr>\n",
       "    </tbody>\n",
       "</table>"
      ],
      "text/plain": [
       "+----------------+\n",
       "| max(DECID_PCT) |\n",
       "+----------------+\n",
       "|     100.0      |\n",
       "+----------------+"
      ]
     },
     "execution_count": 12,
     "metadata": {},
     "output_type": "execute_result"
    }
   ],
   "source": [
    "%sql select MAX(DECID_PCT) from vri"
   ]
  },
  {
   "cell_type": "code",
   "execution_count": 13,
   "metadata": {},
   "outputs": [
    {
     "data": {
      "text/html": [
       "<span style=\"None\">Running query in &#x27;duckdb&#x27;</span>"
      ],
      "text/plain": [
       "Running query in 'duckdb'"
      ]
     },
     "metadata": {},
     "output_type": "display_data"
    },
    {
     "data": {
      "text/html": [
       "<table>\n",
       "    <thead>\n",
       "        <tr>\n",
       "            <th>count(SITE_INDEX)</th>\n",
       "            <th>sum(POLYGON_AREA)</th>\n",
       "            <th>avg(SITE_INDEX)</th>\n",
       "        </tr>\n",
       "    </thead>\n",
       "    <tbody>\n",
       "        <tr>\n",
       "            <td>230</td>\n",
       "            <td>3017.180842383417</td>\n",
       "            <td>15.560869565217391</td>\n",
       "        </tr>\n",
       "    </tbody>\n",
       "</table>"
      ],
      "text/plain": [
       "+-------------------+-------------------+--------------------+\n",
       "| count(SITE_INDEX) | sum(POLYGON_AREA) |  avg(SITE_INDEX)   |\n",
       "+-------------------+-------------------+--------------------+\n",
       "|        230        | 3017.180842383417 | 15.560869565217391 |\n",
       "+-------------------+-------------------+--------------------+"
      ]
     },
     "execution_count": 13,
     "metadata": {},
     "output_type": "execute_result"
    }
   ],
   "source": [
    "# Weirdly there are some polygons that have a site index but no listed leading species...\n",
    "%sql select count(SITE_INDEX), sum(POLYGON_AREA), avg(SITE_INDEX) from vri where SPECIES_CD_1 is null and SITE_INDEX is not null"
   ]
  },
  {
   "cell_type": "code",
   "execution_count": 14,
   "metadata": {},
   "outputs": [
    {
     "data": {
      "text/plain": [
       "<sql.ggplot.ggplot.ggplot at 0x269c9a01a90>"
      ]
     },
     "execution_count": 14,
     "metadata": {},
     "output_type": "execute_result"
    },
    {
     "data": {
      "image/png": "[encoded data removed]",
      "text/plain": [
       "<Figure size 640x480 with 1 Axes>"
      ]
     },
     "metadata": {},
     "output_type": "display_data"
    }
   ],
   "source": [
    "# Take a look at the output\n",
    "# Note that sql.ggplot() doesn't support the 'weights' argument so we can't weight the polygons by area. So this is just looking at the number of polygons with x site index. \n",
    "# We could group these into bins and then do a bar chart but this would take time to both code and process. So it's faster to just do it in R.\n",
    "# This is slightly different from the actual area. See the R script for proper charts.\n",
    "(ggplot(\"vri\", aes(x=\"SITE_INDEX\")) + geom_histogram(bins=30, fill=\"STAND_TYPE_25\", cmap='viridis_r'))"
   ]
  },
  {
   "cell_type": "markdown",
   "metadata": {},
   "source": [
    "<h2>Productivity Bins</h2>\n",
    "\n",
    "The above data was loaded into R to inspect the distribution of site index within each stand type by leading species. See 'SiteIndexAnalysis.R' and the discussion paper.\n",
    "\n",
    "It was determined to use the following categories for our productivity bins:\n",
    "\n",
    "<b>Coniferous</b>: <= 10 is Low, >= 18 is High\n",
    "\n",
    "<b>Deciduous</b>: <= 12 is Low, >= 20 is High\n",
    "\n",
    "<b>Mixed</b>: <= 10 is low, >= 20 is High"
   ]
  },
  {
   "cell_type": "code",
   "execution_count": 33,
   "metadata": {},
   "outputs": [
    {
     "data": {
      "text/html": [
       "<span style=\"None\">Running query in &#x27;duckdb&#x27;</span>"
      ],
      "text/plain": [
       "Running query in 'duckdb'"
      ]
     },
     "metadata": {},
     "output_type": "display_data"
    },
    {
     "data": {
      "text/html": [
       "<table>\n",
       "    <thead>\n",
       "        <tr>\n",
       "            <th>Count</th>\n",
       "        </tr>\n",
       "    </thead>\n",
       "    <tbody>\n",
       "        <tr>\n",
       "            <td>188049</td>\n",
       "        </tr>\n",
       "    </tbody>\n",
       "</table>"
      ],
      "text/plain": [
       "+--------+\n",
       "| Count  |\n",
       "+--------+\n",
       "| 188049 |\n",
       "+--------+"
      ]
     },
     "execution_count": 33,
     "metadata": {},
     "output_type": "execute_result"
    }
   ],
   "source": [
    "%%sql\n",
    "ALTER TABLE vri\n",
    "ADD COLUMN IF NOT EXISTS prod_bin VARCHAR;\n",
    "\n",
    "# Sort into productivity bins\n",
    "\n",
    "UPDATE vri\n",
    "SET prod_bin = \n",
    "IF (\n",
    "    STAND_TYPE_25 = 'Coniferous',\n",
    "    IF (\n",
    "        SITE_INDEX <= 10,\n",
    "        'Low',\n",
    "        IF (\n",
    "            SITE_INDEX >= 18,\n",
    "            'High',\n",
    "            IF (SITE_INDEX IS NOT NULL, 'Medium', NULL)\n",
    "            )\n",
    "        ),\n",
    "    IF (STAND_TYPE_25 = 'Deciduous',\n",
    "        IF (\n",
    "            SITE_INDEX <= 12,\n",
    "            'Low',\n",
    "            IF (\n",
    "                SITE_INDEX >= 20,\n",
    "                'High',\n",
    "                IF (SITE_INDEX IS NOT NULL, 'Medium', NULL)\n",
    "                )\n",
    "            ),\n",
    "        IF (STAND_TYPE_25 = 'Mixed',\n",
    "            IF (\n",
    "                SITE_INDEX <= 10,\n",
    "                'Low',\n",
    "                IF (\n",
    "                    SITE_INDEX >= 20,\n",
    "                    'High',\n",
    "                    IF (SITE_INDEX IS NOT NULL, 'Medium', NULL)\n",
    "                    )\n",
    "                ),\n",
    "            NULL\n",
    "        )\n",
    "    )\n",
    ")\n"
   ]
  },
  {
   "cell_type": "code",
   "execution_count": 26,
   "metadata": {},
   "outputs": [
    {
     "data": {
      "text/html": [
       "<span style=\"None\">Running query in &#x27;duckdb&#x27;</span>"
      ],
      "text/plain": [
       "Running query in 'duckdb'"
      ]
     },
     "metadata": {},
     "output_type": "display_data"
    },
    {
     "data": {
      "text/html": [
       "<table>\n",
       "    <thead>\n",
       "        <tr>\n",
       "            <th>WMB_NAME</th>\n",
       "            <th>GEOM</th>\n",
       "        </tr>\n",
       "    </thead>\n",
       "    <tbody>\n",
       "    </tbody>\n",
       "</table>"
      ],
      "text/plain": [
       "+----------+------+\n",
       "| WMB_NAME | GEOM |\n",
       "+----------+------+\n",
       "+----------+------+"
      ]
     },
     "execution_count": 26,
     "metadata": {},
     "output_type": "execute_result"
    }
   ],
   "source": [
    "%sql select * from wmb LIMIT 0"
   ]
  },
  {
   "cell_type": "code",
   "execution_count": 27,
   "metadata": {},
   "outputs": [
    {
     "data": {
      "text/html": [
       "<span style=\"None\">Running query in &#x27;duckdb&#x27;</span>"
      ],
      "text/plain": [
       "Running query in 'duckdb'"
      ]
     },
     "metadata": {},
     "output_type": "display_data"
    },
    {
     "data": {
      "text/html": [
       "<table>\n",
       "    <thead>\n",
       "        <tr>\n",
       "            <th>Count</th>\n",
       "        </tr>\n",
       "    </thead>\n",
       "    <tbody>\n",
       "        <tr>\n",
       "            <td>111172</td>\n",
       "        </tr>\n",
       "    </tbody>\n",
       "</table>"
      ],
      "text/plain": [
       "+--------+\n",
       "| Count  |\n",
       "+--------+\n",
       "| 111172 |\n",
       "+--------+"
      ]
     },
     "execution_count": 27,
     "metadata": {},
     "output_type": "execute_result"
    }
   ],
   "source": [
    "%%sql\n",
    "# %sql DROP TABLE IF EXISTS vri_wmb;\n",
    "\n",
    "CREATE OR REPLACE TABLE vri_wmb AS (\n",
    "    SELECT vri.OBJECTID AS OBJECTID,\n",
    "        wmb.WMB_NAME,\n",
    "        ST_Intersection(vri.GEOM, wmb.GEOM) AS GEOM\n",
    "    FROM vri, wmb\n",
    "    WHERE ST_Intersects(vri.geom, wmb.GEOM)\n",
    ");\n"
   ]
  },
  {
   "cell_type": "code",
   "execution_count": 34,
   "metadata": {},
   "outputs": [
    {
     "data": {
      "text/html": [
       "<span style=\"None\">Running query in &#x27;duckdb&#x27;</span>"
      ],
      "text/plain": [
       "Running query in 'duckdb'"
      ]
     },
     "metadata": {},
     "output_type": "display_data"
    },
    {
     "data": {
      "text/html": [
       "<table>\n",
       "    <thead>\n",
       "        <tr>\n",
       "            <th>Count</th>\n",
       "        </tr>\n",
       "    </thead>\n",
       "    <tbody>\n",
       "    </tbody>\n",
       "</table>"
      ],
      "text/plain": [
       "+-------+\n",
       "| Count |\n",
       "+-------+\n",
       "+-------+"
      ]
     },
     "execution_count": 34,
     "metadata": {},
     "output_type": "execute_result"
    }
   ],
   "source": [
    "%%sql\n",
    "# intersect and join with planning WMB areas\n",
    "# Intersect these with the VRI to add wmb attributes\n",
    "\n",
    "# add VRI inside the WMBs\n",
    "DROP TABLE IF EXISTS vri_wmb;\n",
    "\n",
    "CREATE OR REPLACE TABLE vri_wmb AS (\n",
    "    SELECT vri.OBJECTID AS OBJECTID,\n",
    "        wmb.WMB_NAME,\n",
    "        ST_Intersection(vri.GEOM, wmb.GEOM) AS GEOM\n",
    "    FROM vri\n",
    "        JOIN wmb ON ST_Intersects(vri.geom, wmb.GEOM)\n",
    ");\n",
    "\n",
    "# add VRI interesecting WMB boundary but outside\n",
    "INSERT INTO vri_wmb (\n",
    "    SELECT vri.OBJECTID AS OBJECTID,\n",
    "        NULL AS WMB_NAME,\n",
    "        ST_Difference(vri.GEOM, wmb.GEOM) AS GEOM\n",
    "    FROM vri\n",
    "        JOIN wmb ON ST_Intersects(vri.geom, wmb.GEOM)\n",
    ");\n",
    "\n",
    "# Add the rest of the VRI that was not already added\n",
    "INSERT INTO vri_wmb (\n",
    "    SELECT OBJECTID,\n",
    "        NULL AS WMB_NAME,\n",
    "        GEOM\n",
    "    FROM vri\n",
    "    WHERE OBJECTID NOT IN (SELECT OBJECTID FROM vri_wmb)\n",
    "    );\n",
    "\n",
    "# Join all other VRI attributes in view\n",
    "CREATE OR REPLACE VIEW vri_wmb_v as (\n",
    "    SELECT v.OBJECTID, v.GEOM, v.WMB_NAME, ST_Area(v.GEOM)/10000 as POLYGON_AREA,\n",
    "        IF(WMB_NAME != 'Cameron River' OR WMB_NAME IS NOT NULL, 1, NULL) AS priority_WMB,\n",
    "        vri.* EXCLUDE (OBJECTID, GEOM, POLYGON_AREA)\n",
    "    FROM vri_wmb v\n",
    "    LEFT JOIN vri USING (OBJECTID)\n",
    ");"
   ]
  },
  {
   "cell_type": "code",
   "execution_count": 81,
   "metadata": {},
   "outputs": [
    {
     "data": {
      "text/html": [
       "<span style=\"None\">Running query in &#x27;duckdb&#x27;</span>"
      ],
      "text/plain": [
       "Running query in 'duckdb'"
      ]
     },
     "metadata": {},
     "output_type": "display_data"
    },
    {
     "data": {
      "text/html": [
       "<table>\n",
       "    <thead>\n",
       "        <tr>\n",
       "            <th>Count</th>\n",
       "        </tr>\n",
       "    </thead>\n",
       "    <tbody>\n",
       "    </tbody>\n",
       "</table>"
      ],
      "text/plain": [
       "+-------+\n",
       "| Count |\n",
       "+-------+\n",
       "+-------+"
      ]
     },
     "execution_count": 81,
     "metadata": {},
     "output_type": "execute_result"
    }
   ],
   "source": [
    "%%sql\n",
    "CREATE OR REPLACE VIEW vri_wmb_v as (\n",
    "    SELECT v.OBJECTID, v.GEOM, v.WMB_NAME, ST_Area(v.GEOM)/10000 as POLYGON_AREA,\n",
    "        IF(WMB_NAME != 'Cameron River' OR WMB_NAME IS NOT NULL, 1, NULL) AS priority_WMB,\n",
    "        vri.* EXCLUDE (OBJECTID, GEOM, POLYGON_AREA)\n",
    "    FROM vri_wmb v\n",
    "    LEFT JOIN vri USING (OBJECTID)\n",
    ");"
   ]
  },
  {
   "cell_type": "code",
   "execution_count": 46,
   "metadata": {},
   "outputs": [],
   "source": [
    "%config SqlMagic.displaylimit = 40"
   ]
  },
  {
   "cell_type": "code",
   "execution_count": 12,
   "metadata": {},
   "outputs": [
    {
     "data": {
      "text/html": [
       "<span style=\"None\">Running query in &#x27;duckdb&#x27;</span>"
      ],
      "text/plain": [
       "Running query in 'duckdb'"
      ]
     },
     "metadata": {},
     "output_type": "display_data"
    },
    {
     "data": {
      "text/html": [
       "<table>\n",
       "    <thead>\n",
       "        <tr>\n",
       "            <th>Stand Composition</th>\n",
       "            <th>Productivity Class</th>\n",
       "            <th>Mean Site Index</th>\n",
       "            <th>Total Area (ha)</th>\n",
       "            <th>% of Stand Type Area</th>\n",
       "            <th>% of Study Area</th>\n",
       "        </tr>\n",
       "    </thead>\n",
       "    <tbody>\n",
       "        <tr>\n",
       "            <td>Coniferous</td>\n",
       "            <td>Low</td>\n",
       "            <td>6.5</td>\n",
       "            <td>880,961</td>\n",
       "            <td>64.2</td>\n",
       "            <td>40.4</td>\n",
       "        </tr>\n",
       "        <tr>\n",
       "            <td>Coniferous</td>\n",
       "            <td>Medium</td>\n",
       "            <td>13.5</td>\n",
       "            <td>406,480</td>\n",
       "            <td>29.6</td>\n",
       "            <td>18.6</td>\n",
       "        </tr>\n",
       "        <tr>\n",
       "            <td>Coniferous</td>\n",
       "            <td>High</td>\n",
       "            <td>20.4</td>\n",
       "            <td>80,715</td>\n",
       "            <td>5.9</td>\n",
       "            <td>3.7</td>\n",
       "        </tr>\n",
       "        <tr>\n",
       "            <td>Coniferous</td>\n",
       "            <td>None</td>\n",
       "            <td>None</td>\n",
       "            <td>3,648</td>\n",
       "            <td>0.3</td>\n",
       "            <td>0.2</td>\n",
       "        </tr>\n",
       "        <tr>\n",
       "            <td>Deciduous</td>\n",
       "            <td>Low</td>\n",
       "            <td>10.2</td>\n",
       "            <td>33,720</td>\n",
       "            <td>8.6</td>\n",
       "            <td>1.5</td>\n",
       "        </tr>\n",
       "        <tr>\n",
       "            <td>Deciduous</td>\n",
       "            <td>Medium</td>\n",
       "            <td>16.2</td>\n",
       "            <td>327,416</td>\n",
       "            <td>83.7</td>\n",
       "            <td>15.0</td>\n",
       "        </tr>\n",
       "        <tr>\n",
       "            <td>Deciduous</td>\n",
       "            <td>High</td>\n",
       "            <td>21.6</td>\n",
       "            <td>29,997</td>\n",
       "            <td>7.7</td>\n",
       "            <td>1.4</td>\n",
       "        </tr>\n",
       "        <tr>\n",
       "            <td>Deciduous</td>\n",
       "            <td>None</td>\n",
       "            <td>None</td>\n",
       "            <td>106</td>\n",
       "            <td>0.0</td>\n",
       "            <td>0.0</td>\n",
       "        </tr>\n",
       "        <tr>\n",
       "            <td>Mixed</td>\n",
       "            <td>Low</td>\n",
       "            <td>7.8</td>\n",
       "            <td>36,563</td>\n",
       "            <td>12.8</td>\n",
       "            <td>1.7</td>\n",
       "        </tr>\n",
       "        <tr>\n",
       "            <td>Mixed</td>\n",
       "            <td>Medium</td>\n",
       "            <td>15.1</td>\n",
       "            <td>223,044</td>\n",
       "            <td>78.0</td>\n",
       "            <td>10.2</td>\n",
       "        </tr>\n",
       "    </tbody>\n",
       "</table>\n",
       "<span style=\"font-style:italic;text-align:center;\">Truncated to <a href=\"https://jupysql.ploomber.io/en/latest/api/configuration.html#displaylimit\">displaylimit</a> of 10.</span>"
      ],
      "text/plain": [
       "+-------------------+--------------------+-----------------+-----------------+----------------------+-----------------+\n",
       "| Stand Composition | Productivity Class | Mean Site Index | Total Area (ha) | % of Stand Type Area | % of Study Area |\n",
       "+-------------------+--------------------+-----------------+-----------------+----------------------+-----------------+\n",
       "|     Coniferous    |        Low         |       6.5       |     880,961     |         64.2         |       40.4      |\n",
       "|     Coniferous    |       Medium       |       13.5      |     406,480     |         29.6         |       18.6      |\n",
       "|     Coniferous    |        High        |       20.4      |      80,715     |         5.9          |       3.7       |\n",
       "|     Coniferous    |        None        |       None      |      3,648      |         0.3          |       0.2       |\n",
       "|     Deciduous     |        Low         |       10.2      |      33,720     |         8.6          |       1.5       |\n",
       "|     Deciduous     |       Medium       |       16.2      |     327,416     |         83.7         |       15.0      |\n",
       "|     Deciduous     |        High        |       21.6      |      29,997     |         7.7          |       1.4       |\n",
       "|     Deciduous     |        None        |       None      |       106       |         0.0          |       0.0       |\n",
       "|       Mixed       |        Low         |       7.8       |      36,563     |         12.8         |       1.7       |\n",
       "|       Mixed       |       Medium       |       15.1      |     223,044     |         78.0         |       10.2      |\n",
       "+-------------------+--------------------+-----------------+-----------------+----------------------+-----------------+\n",
       "Truncated to displaylimit of 10."
      ]
     },
     "execution_count": 12,
     "metadata": {},
     "output_type": "execute_result"
    }
   ],
   "source": [
    "%%sql \n",
    "# Examine distribution of outputs.\n",
    "SELECT \n",
    "    STAND_TYPE_25 as \"Stand Composition\", \n",
    "    prod_bin as \"Productivity Class\", \n",
    "    ROUND(AVG(SITE_INDEX), 1) as \"Mean Site Index\", \n",
    "    FORMAT('{:t,.0f}', SUM(POLYGON_AREA)) AS \"Total Area (ha)\",\n",
    "    ROUND(SUM(POLYGON_AREA) * 100.0 / SUM(SUM(POLYGON_AREA)) OVER (PARTITION BY STAND_TYPE_25), 1) AS \"% of Stand Type Area\",\n",
    "    ROUND(SUM(POLYGON_AREA) * 100.0 / SUM(SUM(POLYGON_AREA)) OVER (), 1) AS \"% of Study Area\"\n",
    "    \n",
    "\n",
    "from vri \n",
    "    GROUP BY STAND_TYPE_25, prod_bin\n",
    "    ORDER BY STAND_TYPE_25, \"Mean Site Index\", \"Total Area (ha)\""
   ]
  },
  {
   "cell_type": "code",
   "execution_count": 88,
   "metadata": {},
   "outputs": [
    {
     "data": {
      "text/html": [
       "<span style=\"None\">Running query in &#x27;duckdb&#x27;</span>"
      ],
      "text/plain": [
       "Running query in 'duckdb'"
      ]
     },
     "metadata": {},
     "output_type": "display_data"
    },
    {
     "data": {
      "text/html": [
       "<table>\n",
       "    <thead>\n",
       "        <tr>\n",
       "            <th>sum(CASE  WHEN ((priority_WMB = 1)) THEN ((iflb_fact * POLYGON_AREA)) ELSE 0.0 END)</th>\n",
       "            <th>sum((iflb_fact * POLYGON_AREA))</th>\n",
       "        </tr>\n",
       "    </thead>\n",
       "    <tbody>\n",
       "        <tr>\n",
       "            <td>931352.6951731975</td>\n",
       "            <td>1587912.409648098</td>\n",
       "        </tr>\n",
       "    </tbody>\n",
       "</table>"
      ],
      "text/plain": [
       "+-------------------------------------------------------------------------------------+---------------------------------+\n",
       "| sum(CASE  WHEN ((priority_WMB = 1)) THEN ((iflb_fact * POLYGON_AREA)) ELSE 0.0 END) | sum((iflb_fact * POLYGON_AREA)) |\n",
       "+-------------------------------------------------------------------------------------+---------------------------------+\n",
       "|                                  931352.6951731975                                  |        1587912.409648098        |\n",
       "+-------------------------------------------------------------------------------------+---------------------------------+"
      ]
     },
     "execution_count": 88,
     "metadata": {},
     "output_type": "execute_result"
    }
   ],
   "source": [
    "%%sql \n",
    "select sum(IF(priority_WMB == 1, iflb_fact * POLYGON_AREA, 0.0)), SUM(iflb_fact * POLYGON_AREA) from vri_wmb_v\n"
   ]
  },
  {
   "cell_type": "code",
   "execution_count": 79,
   "metadata": {},
   "outputs": [
    {
     "data": {
      "text/html": [
       "<span style=\"None\">Running query in &#x27;duckdb&#x27;</span>"
      ],
      "text/plain": [
       "Running query in 'duckdb'"
      ]
     },
     "metadata": {},
     "output_type": "display_data"
    },
    {
     "data": {
      "text/html": [
       "<table>\n",
       "    <thead>\n",
       "        <tr>\n",
       "            <th>Stand Composition</th>\n",
       "            <th>Productivity Class</th>\n",
       "            <th>BEC_ZONE_CODE</th>\n",
       "            <th>BEC_SUBZONE</th>\n",
       "            <th>StudyAREA</th>\n",
       "            <th>BEC String</th>\n",
       "            <th>totalWMB</th>\n",
       "            <th>% of WMB Area</th>\n",
       "            <th>% AFLB in WMB Area</th>\n",
       "            <th>% AFLB in Study Area</th>\n",
       "            <th>% of Study Area</th>\n",
       "        </tr>\n",
       "    </thead>\n",
       "    <tbody>\n",
       "        <tr>\n",
       "            <td>Coniferous</td>\n",
       "            <td>High</td>\n",
       "            <td>BWBS</td>\n",
       "            <td>mk</td>\n",
       "            <td>2217108.686873051</td>\n",
       "            <td>BWBSmk</td>\n",
       "            <td>1241010.3799999978</td>\n",
       "            <td>1.8269556202523922</td>\n",
       "            <td>2.224801977146653</td>\n",
       "            <td>1.840387166519775</td>\n",
       "            <td>1.4503158815790433</td>\n",
       "        </tr>\n",
       "        <tr>\n",
       "            <td>Coniferous</td>\n",
       "            <td>High</td>\n",
       "            <td>BWBS</td>\n",
       "            <td>mw</td>\n",
       "            <td>2217108.686873051</td>\n",
       "            <td>BWBSmw</td>\n",
       "            <td>1241010.3799999978</td>\n",
       "            <td>2.248284230346889</td>\n",
       "            <td>2.411481983582138</td>\n",
       "            <td>2.118778028996685</td>\n",
       "            <td>1.867441201748323</td>\n",
       "        </tr>\n",
       "        <tr>\n",
       "            <td>Coniferous</td>\n",
       "            <td>High</td>\n",
       "            <td>BWBS</td>\n",
       "            <td>wk</td>\n",
       "            <td>2217108.686873051</td>\n",
       "            <td>BWBSwk</td>\n",
       "            <td>1241010.3799999978</td>\n",
       "            <td>0.5182619262015966</td>\n",
       "            <td>0.6378543087583798</td>\n",
       "            <td>0.5237027215300589</td>\n",
       "            <td>0.40986905261773754</td>\n",
       "        </tr>\n",
       "        <tr>\n",
       "            <td>Coniferous</td>\n",
       "            <td>High</td>\n",
       "            <td>ESSF</td>\n",
       "            <td>mv</td>\n",
       "            <td>2217108.686873051</td>\n",
       "            <td>ESSFmv</td>\n",
       "            <td>1241010.3799999978</td>\n",
       "            <td>0.0007549862851556549</td>\n",
       "            <td>0.001031280687384802</td>\n",
       "            <td>0.0020728782702388675</td>\n",
       "            <td>0.0015760171456172618</td>\n",
       "        </tr>\n",
       "        <tr>\n",
       "            <td>Coniferous</td>\n",
       "            <td>High</td>\n",
       "            <td>SWB</td>\n",
       "            <td>mk</td>\n",
       "            <td>2217108.686873051</td>\n",
       "            <td>SWBmk</td>\n",
       "            <td>1241010.3799999978</td>\n",
       "            <td>0.009240630931941446</td>\n",
       "            <td>0.012622327592874233</td>\n",
       "            <td>0.023988698161872397</td>\n",
       "            <td>0.019599774397233972</td>\n",
       "        </tr>\n",
       "        <tr>\n",
       "            <td>Coniferous</td>\n",
       "            <td>Low</td>\n",
       "            <td>BAFA</td>\n",
       "            <td>un</td>\n",
       "            <td>2217108.686873051</td>\n",
       "            <td>BAFAun</td>\n",
       "            <td>1241010.3799999978</td>\n",
       "            <td>0.0</td>\n",
       "            <td>0.0</td>\n",
       "            <td>0.0</td>\n",
       "            <td>0.01709086977400533</td>\n",
       "        </tr>\n",
       "        <tr>\n",
       "            <td>Coniferous</td>\n",
       "            <td>Low</td>\n",
       "            <td>BWBS</td>\n",
       "            <td>mk</td>\n",
       "            <td>2217108.686873051</td>\n",
       "            <td>BWBSmk</td>\n",
       "            <td>1241010.3799999978</td>\n",
       "            <td>26.123615771727106</td>\n",
       "            <td>25.113797206219825</td>\n",
       "            <td>26.143533158524214</td>\n",
       "            <td>28.101916114674598</td>\n",
       "        </tr>\n",
       "        <tr>\n",
       "            <td>Coniferous</td>\n",
       "            <td>Low</td>\n",
       "            <td>BWBS</td>\n",
       "            <td>mw</td>\n",
       "            <td>2217108.686873051</td>\n",
       "            <td>BWBSmw</td>\n",
       "            <td>1241010.3799999978</td>\n",
       "            <td>6.096634569218568</td>\n",
       "            <td>5.040334852734306</td>\n",
       "            <td>5.359797013542051</td>\n",
       "            <td>7.188000968332537</td>\n",
       "        </tr>\n",
       "        <tr>\n",
       "            <td>Coniferous</td>\n",
       "            <td>Low</td>\n",
       "            <td>BWBS</td>\n",
       "            <td>wk</td>\n",
       "            <td>2217108.686873051</td>\n",
       "            <td>BWBSwk</td>\n",
       "            <td>1241010.3799999978</td>\n",
       "            <td>2.388879517511547</td>\n",
       "            <td>2.588836391499974</td>\n",
       "            <td>2.957467537281373</td>\n",
       "            <td>2.749438388842183</td>\n",
       "        </tr>\n",
       "        <tr>\n",
       "            <td>Coniferous</td>\n",
       "            <td>Low</td>\n",
       "            <td>ESSF</td>\n",
       "            <td>mv</td>\n",
       "            <td>2217108.686873051</td>\n",
       "            <td>ESSFmv</td>\n",
       "            <td>1241010.3799999978</td>\n",
       "            <td>0.004455792326266552</td>\n",
       "            <td>0.002452572811864921</td>\n",
       "            <td>0.42535868442024455</td>\n",
       "            <td>0.41119895849094634</td>\n",
       "        </tr>\n",
       "        <tr>\n",
       "            <td>Coniferous</td>\n",
       "            <td>Low</td>\n",
       "            <td>ESSF</td>\n",
       "            <td>mvp</td>\n",
       "            <td>2217108.686873051</td>\n",
       "            <td>ESSFmvp</td>\n",
       "            <td>1241010.3799999978</td>\n",
       "            <td>0.0</td>\n",
       "            <td>0.0</td>\n",
       "            <td>0.013747294977774794</td>\n",
       "            <td>0.013833924601062315</td>\n",
       "        </tr>\n",
       "        <tr>\n",
       "            <td>Coniferous</td>\n",
       "            <td>Low</td>\n",
       "            <td>SWB</td>\n",
       "            <td>mk</td>\n",
       "            <td>2217108.686873051</td>\n",
       "            <td>SWBmk</td>\n",
       "            <td>1241010.3799999978</td>\n",
       "            <td>0.43214818524540827</td>\n",
       "            <td>0.4547017512124198</td>\n",
       "            <td>1.5727110216006046</td>\n",
       "            <td>1.6227212531685207</td>\n",
       "        </tr>\n",
       "        <tr>\n",
       "            <td>Coniferous</td>\n",
       "            <td>Low</td>\n",
       "            <td>SWB</td>\n",
       "            <td>mks</td>\n",
       "            <td>2217108.686873051</td>\n",
       "            <td>SWBmks</td>\n",
       "            <td>1241010.3799999978</td>\n",
       "            <td>0.027949721101130955</td>\n",
       "            <td>0.0025862708487476233</td>\n",
       "            <td>0.04959676463614656</td>\n",
       "            <td>0.304903157926131</td>\n",
       "        </tr>\n",
       "        <tr>\n",
       "            <td>Coniferous</td>\n",
       "            <td>Medium</td>\n",
       "            <td>BWBS</td>\n",
       "            <td>mk</td>\n",
       "            <td>2217108.686873051</td>\n",
       "            <td>BWBSmk</td>\n",
       "            <td>1241010.3799999978</td>\n",
       "            <td>11.481225131131858</td>\n",
       "            <td>13.906450067804606</td>\n",
       "            <td>13.372921190839847</td>\n",
       "            <td>10.457567118701444</td>\n",
       "        </tr>\n",
       "        <tr>\n",
       "            <td>Coniferous</td>\n",
       "            <td>Medium</td>\n",
       "            <td>BWBS</td>\n",
       "            <td>mw</td>\n",
       "            <td>2217108.686873051</td>\n",
       "            <td>BWBSmw</td>\n",
       "            <td>1241010.3799999978</td>\n",
       "            <td>6.7986737096201635</td>\n",
       "            <td>7.5695789997928005</td>\n",
       "            <td>6.466225145468201</td>\n",
       "            <td>5.533175339226926</td>\n",
       "        </tr>\n",
       "        <tr>\n",
       "            <td>Coniferous</td>\n",
       "            <td>Medium</td>\n",
       "            <td>BWBS</td>\n",
       "            <td>wk</td>\n",
       "            <td>2217108.686873051</td>\n",
       "            <td>BWBSwk</td>\n",
       "            <td>1241010.3799999978</td>\n",
       "            <td>2.439200184235101</td>\n",
       "            <td>3.0215430119172546</td>\n",
       "            <td>2.896173922995353</td>\n",
       "            <td>2.3089146114562253</td>\n",
       "        </tr>\n",
       "        <tr>\n",
       "            <td>Coniferous</td>\n",
       "            <td>Medium</td>\n",
       "            <td>ESSF</td>\n",
       "            <td>mv</td>\n",
       "            <td>2217108.686873051</td>\n",
       "            <td>ESSFmv</td>\n",
       "            <td>1241010.3799999978</td>\n",
       "            <td>0.018066174478363714</td>\n",
       "            <td>0.020899301232062954</td>\n",
       "            <td>0.19809164021199172</td>\n",
       "            <td>0.1688077961497764</td>\n",
       "        </tr>\n",
       "        <tr>\n",
       "            <td>Coniferous</td>\n",
       "            <td>Medium</td>\n",
       "            <td>ESSF</td>\n",
       "            <td>mvp</td>\n",
       "            <td>2217108.686873051</td>\n",
       "            <td>ESSFmvp</td>\n",
       "            <td>1241010.3799999978</td>\n",
       "            <td>0.0</td>\n",
       "            <td>0.0</td>\n",
       "            <td>0.0014443054924025876</td>\n",
       "            <td>0.001522542150216208</td>\n",
       "        </tr>\n",
       "        <tr>\n",
       "            <td>Coniferous</td>\n",
       "            <td>Medium</td>\n",
       "            <td>SWB</td>\n",
       "            <td>mk</td>\n",
       "            <td>2217108.686873051</td>\n",
       "            <td>SWBmk</td>\n",
       "            <td>1241010.3799999978</td>\n",
       "            <td>0.1273397992449636</td>\n",
       "            <td>0.16685331870679462</td>\n",
       "            <td>0.35149849394522875</td>\n",
       "            <td>0.26516538812058255</td>\n",
       "        </tr>\n",
       "        <tr>\n",
       "            <td>Coniferous</td>\n",
       "            <td>Medium</td>\n",
       "            <td>SWB</td>\n",
       "            <td>mks</td>\n",
       "            <td>2217108.686873051</td>\n",
       "            <td>SWBmks</td>\n",
       "            <td>1241010.3799999978</td>\n",
       "            <td>0.0</td>\n",
       "            <td>0.0</td>\n",
       "            <td>0.0013149050531288224</td>\n",
       "            <td>0.0009195054072249961</td>\n",
       "        </tr>\n",
       "        <tr>\n",
       "            <td>Coniferous</td>\n",
       "            <td>None</td>\n",
       "            <td>BAFA</td>\n",
       "            <td>un</td>\n",
       "            <td>2217108.686873051</td>\n",
       "            <td>BAFAun</td>\n",
       "            <td>1241010.3799999978</td>\n",
       "            <td>0.0</td>\n",
       "            <td>0.0</td>\n",
       "            <td>0.0</td>\n",
       "            <td>0.03525957714945759</td>\n",
       "        </tr>\n",
       "        <tr>\n",
       "            <td>Coniferous</td>\n",
       "            <td>None</td>\n",
       "            <td>BWBS</td>\n",
       "            <td>mk</td>\n",
       "            <td>2217108.686873051</td>\n",
       "            <td>BWBSmk</td>\n",
       "            <td>1241010.3799999978</td>\n",
       "            <td>0.03073322796192759</td>\n",
       "            <td>7.242511486675726e-05</td>\n",
       "            <td>4.5216737686816514e-05</td>\n",
       "            <td>0.025701887959345943</td>\n",
       "        </tr>\n",
       "        <tr>\n",
       "            <td>Coniferous</td>\n",
       "            <td>None</td>\n",
       "            <td>BWBS</td>\n",
       "            <td>mw</td>\n",
       "            <td>2217108.686873051</td>\n",
       "            <td>BWBSmw</td>\n",
       "            <td>1241010.3799999978</td>\n",
       "            <td>0.0017718668303962212</td>\n",
       "            <td>1.1138712041856524e-09</td>\n",
       "            <td>6.527181535912719e-10</td>\n",
       "            <td>0.0014795162334265623</td>\n",
       "        </tr>\n",
       "        <tr>\n",
       "            <td>Coniferous</td>\n",
       "            <td>None</td>\n",
       "            <td>BWBS</td>\n",
       "            <td>wk</td>\n",
       "            <td>2217108.686873051</td>\n",
       "            <td>BWBSwk</td>\n",
       "            <td>1241010.3799999978</td>\n",
       "            <td>0.003105596522409962</td>\n",
       "            <td>0.0</td>\n",
       "            <td>0.0</td>\n",
       "            <td>0.0036656467232085935</td>\n",
       "        </tr>\n",
       "        <tr>\n",
       "            <td>Coniferous</td>\n",
       "            <td>None</td>\n",
       "            <td>ESSF</td>\n",
       "            <td>mv</td>\n",
       "            <td>2217108.686873051</td>\n",
       "            <td>ESSFmv</td>\n",
       "            <td>1241010.3799999978</td>\n",
       "            <td>0.0</td>\n",
       "            <td>0.0</td>\n",
       "            <td>0.0</td>\n",
       "            <td>0.0005757409333374459</td>\n",
       "        </tr>\n",
       "        <tr>\n",
       "            <td>Coniferous</td>\n",
       "            <td>None</td>\n",
       "            <td>ESSF</td>\n",
       "            <td>mvp</td>\n",
       "            <td>2217108.686873051</td>\n",
       "            <td>ESSFmvp</td>\n",
       "            <td>1241010.3799999978</td>\n",
       "            <td>0.0</td>\n",
       "            <td>0.0</td>\n",
       "            <td>0.0</td>\n",
       "            <td>0.003638130617104238</td>\n",
       "        </tr>\n",
       "        <tr>\n",
       "            <td>Coniferous</td>\n",
       "            <td>None</td>\n",
       "            <td>SWB</td>\n",
       "            <td>mk</td>\n",
       "            <td>2217108.686873051</td>\n",
       "            <td>SWBmk</td>\n",
       "            <td>1241010.3799999978</td>\n",
       "            <td>0.0</td>\n",
       "            <td>0.0</td>\n",
       "            <td>0.0</td>\n",
       "            <td>0.009069923324026188</td>\n",
       "        </tr>\n",
       "        <tr>\n",
       "            <td>Coniferous</td>\n",
       "            <td>None</td>\n",
       "            <td>SWB</td>\n",
       "            <td>mks</td>\n",
       "            <td>2217108.686873051</td>\n",
       "            <td>SWBmks</td>\n",
       "            <td>1241010.3799999978</td>\n",
       "            <td>0.0009611128717987627</td>\n",
       "            <td>0.0</td>\n",
       "            <td>0.0</td>\n",
       "            <td>0.08552729963741976</td>\n",
       "        </tr>\n",
       "        <tr>\n",
       "            <td>Deciduous</td>\n",
       "            <td>High</td>\n",
       "            <td>BWBS</td>\n",
       "            <td>mk</td>\n",
       "            <td>2217108.686873051</td>\n",
       "            <td>BWBSmk</td>\n",
       "            <td>1241010.3799999978</td>\n",
       "            <td>0.6275461068319123</td>\n",
       "            <td>0.7571477171915348</td>\n",
       "            <td>0.9482830392872278</td>\n",
       "            <td>0.7505997654652502</td>\n",
       "        </tr>\n",
       "        <tr>\n",
       "            <td>Deciduous</td>\n",
       "            <td>High</td>\n",
       "            <td>BWBS</td>\n",
       "            <td>mw</td>\n",
       "            <td>2217108.686873051</td>\n",
       "            <td>BWBSmw</td>\n",
       "            <td>1241010.3799999978</td>\n",
       "            <td>0.7198401721782202</td>\n",
       "            <td>0.7049267391622387</td>\n",
       "            <td>0.5932431193781943</td>\n",
       "            <td>0.5917069191393204</td>\n",
       "        </tr>\n",
       "        <tr>\n",
       "            <td>Deciduous</td>\n",
       "            <td>High</td>\n",
       "            <td>BWBS</td>\n",
       "            <td>wk</td>\n",
       "            <td>2217108.686873051</td>\n",
       "            <td>BWBSwk</td>\n",
       "            <td>1241010.3799999978</td>\n",
       "            <td>0.03271443979066315</td>\n",
       "            <td>0.041064441606459105</td>\n",
       "            <td>0.029985940118050725</td>\n",
       "            <td>0.023020438371298885</td>\n",
       "        </tr>\n",
       "        <tr>\n",
       "            <td>Deciduous</td>\n",
       "            <td>Low</td>\n",
       "            <td>BWBS</td>\n",
       "            <td>mk</td>\n",
       "            <td>2217108.686873051</td>\n",
       "            <td>BWBSmk</td>\n",
       "            <td>1241010.3799999978</td>\n",
       "            <td>0.48136641403748553</td>\n",
       "            <td>0.5541890621321659</td>\n",
       "            <td>0.8455826534045824</td>\n",
       "            <td>0.6702861519517382</td>\n",
       "        </tr>\n",
       "        <tr>\n",
       "            <td>Deciduous</td>\n",
       "            <td>Low</td>\n",
       "            <td>BWBS</td>\n",
       "            <td>mw</td>\n",
       "            <td>2217108.686873051</td>\n",
       "            <td>BWBSmw</td>\n",
       "            <td>1241010.3799999978</td>\n",
       "            <td>0.8267360956301756</td>\n",
       "            <td>0.5937434502969354</td>\n",
       "            <td>0.5068132087526754</td>\n",
       "            <td>0.6441970051279685</td>\n",
       "        </tr>\n",
       "        <tr>\n",
       "            <td>Deciduous</td>\n",
       "            <td>Low</td>\n",
       "            <td>BWBS</td>\n",
       "            <td>wk</td>\n",
       "            <td>2217108.686873051</td>\n",
       "            <td>BWBSwk</td>\n",
       "            <td>1241010.3799999978</td>\n",
       "            <td>0.0766914851414279</td>\n",
       "            <td>0.09532131134730042</td>\n",
       "            <td>0.21407213911919834</td>\n",
       "            <td>0.1823063331972243</td>\n",
       "        </tr>\n",
       "        <tr>\n",
       "            <td>Deciduous</td>\n",
       "            <td>Low</td>\n",
       "            <td>ESSF</td>\n",
       "            <td>mv</td>\n",
       "            <td>2217108.686873051</td>\n",
       "            <td>ESSFmv</td>\n",
       "            <td>1241010.3799999978</td>\n",
       "            <td>0.0</td>\n",
       "            <td>0.0</td>\n",
       "            <td>0.001030799036856978</td>\n",
       "            <td>0.0008967608081097262</td>\n",
       "        </tr>\n",
       "        <tr>\n",
       "            <td>Deciduous</td>\n",
       "            <td>Low</td>\n",
       "            <td>SWB</td>\n",
       "            <td>mk</td>\n",
       "            <td>2217108.686873051</td>\n",
       "            <td>SWBmk</td>\n",
       "            <td>1241010.3799999978</td>\n",
       "            <td>0.0002923058431288438</td>\n",
       "            <td>0.00039927794286535753</td>\n",
       "            <td>0.04116179298041576</td>\n",
       "            <td>0.037983530894291566</td>\n",
       "        </tr>\n",
       "        <tr>\n",
       "            <td>Deciduous</td>\n",
       "            <td>Low</td>\n",
       "            <td>SWB</td>\n",
       "            <td>mks</td>\n",
       "            <td>2217108.686873051</td>\n",
       "            <td>SWBmks</td>\n",
       "            <td>1241010.3799999978</td>\n",
       "            <td>0.0</td>\n",
       "            <td>0.0</td>\n",
       "            <td>0.0</td>\n",
       "            <td>5.881887243862186e-05</td>\n",
       "        </tr>\n",
       "        <tr>\n",
       "            <td>Deciduous</td>\n",
       "            <td>Medium</td>\n",
       "            <td>BWBS</td>\n",
       "            <td>mk</td>\n",
       "            <td>2217108.686873051</td>\n",
       "            <td>BWBSmk</td>\n",
       "            <td>1241010.3799999978</td>\n",
       "            <td>4.304869191970191</td>\n",
       "            <td>5.0772970761967455</td>\n",
       "            <td>5.941816445018297</td>\n",
       "            <td>4.731691557950161</td>\n",
       "        </tr>\n",
       "        <tr>\n",
       "            <td>Deciduous</td>\n",
       "            <td>Medium</td>\n",
       "            <td>BWBS</td>\n",
       "            <td>mw</td>\n",
       "            <td>2217108.686873051</td>\n",
       "            <td>BWBSmw</td>\n",
       "            <td>1241010.3799999978</td>\n",
       "            <td>10.57226611447727</td>\n",
       "            <td>9.25918547296528</td>\n",
       "            <td>8.235103698955898</td>\n",
       "            <td>9.066146127475891</td>\n",
       "        </tr>\n",
       "        <tr>\n",
       "            <td>Deciduous</td>\n",
       "            <td>Medium</td>\n",
       "            <td>BWBS</td>\n",
       "            <td>wk</td>\n",
       "            <td>2217108.686873051</td>\n",
       "            <td>BWBSwk</td>\n",
       "            <td>1241010.3799999978</td>\n",
       "            <td>1.1955390218406337</td>\n",
       "            <td>1.4714129735578312</td>\n",
       "            <td>1.435697206597838</td>\n",
       "            <td>1.1448164322395062</td>\n",
       "        </tr>\n",
       "    </tbody>\n",
       "</table>\n",
       "<span style=\"font-style:italic;text-align:center;\">Truncated to <a href=\"https://jupysql.ploomber.io/en/latest/api/configuration.html#displaylimit\">displaylimit</a> of 40.</span>"
      ],
      "text/plain": [
       "+-------------------+--------------------+---------------+-------------+-------------------+------------+--------------------+-----------------------+------------------------+------------------------+-----------------------+\n",
       "| Stand Composition | Productivity Class | BEC_ZONE_CODE | BEC_SUBZONE |     StudyAREA     | BEC String |      totalWMB      |     % of WMB Area     |   % AFLB in WMB Area   |  % AFLB in Study Area  |    % of Study Area    |\n",
       "+-------------------+--------------------+---------------+-------------+-------------------+------------+--------------------+-----------------------+------------------------+------------------------+-----------------------+\n",
       "|     Coniferous    |        High        |      BWBS     |      mk     | 2217108.686873051 |   BWBSmk   | 1241010.3799999978 |   1.8269556202523922  |   2.224801977146653    |   1.840387166519775    |   1.4503158815790433  |\n",
       "|     Coniferous    |        High        |      BWBS     |      mw     | 2217108.686873051 |   BWBSmw   | 1241010.3799999978 |   2.248284230346889   |   2.411481983582138    |   2.118778028996685    |   1.867441201748323   |\n",
       "|     Coniferous    |        High        |      BWBS     |      wk     | 2217108.686873051 |   BWBSwk   | 1241010.3799999978 |   0.5182619262015966  |   0.6378543087583798   |   0.5237027215300589   |  0.40986905261773754  |\n",
       "|     Coniferous    |        High        |      ESSF     |      mv     | 2217108.686873051 |   ESSFmv   | 1241010.3799999978 | 0.0007549862851556549 |  0.001031280687384802  | 0.0020728782702388675  | 0.0015760171456172618 |\n",
       "|     Coniferous    |        High        |      SWB      |      mk     | 2217108.686873051 |   SWBmk    | 1241010.3799999978 |  0.009240630931941446 |  0.012622327592874233  |  0.023988698161872397  |  0.019599774397233972 |\n",
       "|     Coniferous    |        Low         |      BAFA     |      un     | 2217108.686873051 |   BAFAun   | 1241010.3799999978 |          0.0          |          0.0           |          0.0           |  0.01709086977400533  |\n",
       "|     Coniferous    |        Low         |      BWBS     |      mk     | 2217108.686873051 |   BWBSmk   | 1241010.3799999978 |   26.123615771727106  |   25.113797206219825   |   26.143533158524214   |   28.101916114674598  |\n",
       "|     Coniferous    |        Low         |      BWBS     |      mw     | 2217108.686873051 |   BWBSmw   | 1241010.3799999978 |   6.096634569218568   |   5.040334852734306    |   5.359797013542051    |   7.188000968332537   |\n",
       "|     Coniferous    |        Low         |      BWBS     |      wk     | 2217108.686873051 |   BWBSwk   | 1241010.3799999978 |   2.388879517511547   |   2.588836391499974    |   2.957467537281373    |   2.749438388842183   |\n",
       "|     Coniferous    |        Low         |      ESSF     |      mv     | 2217108.686873051 |   ESSFmv   | 1241010.3799999978 |  0.004455792326266552 |  0.002452572811864921  |  0.42535868442024455   |  0.41119895849094634  |\n",
       "|     Coniferous    |        Low         |      ESSF     |     mvp     | 2217108.686873051 |  ESSFmvp   | 1241010.3799999978 |          0.0          |          0.0           |  0.013747294977774794  |  0.013833924601062315 |\n",
       "|     Coniferous    |        Low         |      SWB      |      mk     | 2217108.686873051 |   SWBmk    | 1241010.3799999978 |  0.43214818524540827  |   0.4547017512124198   |   1.5727110216006046   |   1.6227212531685207  |\n",
       "|     Coniferous    |        Low         |      SWB      |     mks     | 2217108.686873051 |   SWBmks   | 1241010.3799999978 |  0.027949721101130955 | 0.0025862708487476233  |  0.04959676463614656   |   0.304903157926131   |\n",
       "|     Coniferous    |       Medium       |      BWBS     |      mk     | 2217108.686873051 |   BWBSmk   | 1241010.3799999978 |   11.481225131131858  |   13.906450067804606   |   13.372921190839847   |   10.457567118701444  |\n",
       "|     Coniferous    |       Medium       |      BWBS     |      mw     | 2217108.686873051 |   BWBSmw   | 1241010.3799999978 |   6.7986737096201635  |   7.5695789997928005   |   6.466225145468201    |   5.533175339226926   |\n",
       "|     Coniferous    |       Medium       |      BWBS     |      wk     | 2217108.686873051 |   BWBSwk   | 1241010.3799999978 |   2.439200184235101   |   3.0215430119172546   |   2.896173922995353    |   2.3089146114562253  |\n",
       "|     Coniferous    |       Medium       |      ESSF     |      mv     | 2217108.686873051 |   ESSFmv   | 1241010.3799999978 |  0.018066174478363714 |  0.020899301232062954  |  0.19809164021199172   |   0.1688077961497764  |\n",
       "|     Coniferous    |       Medium       |      ESSF     |     mvp     | 2217108.686873051 |  ESSFmvp   | 1241010.3799999978 |          0.0          |          0.0           | 0.0014443054924025876  |  0.001522542150216208 |\n",
       "|     Coniferous    |       Medium       |      SWB      |      mk     | 2217108.686873051 |   SWBmk    | 1241010.3799999978 |   0.1273397992449636  |  0.16685331870679462   |  0.35149849394522875   |  0.26516538812058255  |\n",
       "|     Coniferous    |       Medium       |      SWB      |     mks     | 2217108.686873051 |   SWBmks   | 1241010.3799999978 |          0.0          |          0.0           | 0.0013149050531288224  | 0.0009195054072249961 |\n",
       "|     Coniferous    |        None        |      BAFA     |      un     | 2217108.686873051 |   BAFAun   | 1241010.3799999978 |          0.0          |          0.0           |          0.0           |  0.03525957714945759  |\n",
       "|     Coniferous    |        None        |      BWBS     |      mk     | 2217108.686873051 |   BWBSmk   | 1241010.3799999978 |  0.03073322796192759  | 7.242511486675726e-05  | 4.5216737686816514e-05 |  0.025701887959345943 |\n",
       "|     Coniferous    |        None        |      BWBS     |      mw     | 2217108.686873051 |   BWBSmw   | 1241010.3799999978 | 0.0017718668303962212 | 1.1138712041856524e-09 | 6.527181535912719e-10  | 0.0014795162334265623 |\n",
       "|     Coniferous    |        None        |      BWBS     |      wk     | 2217108.686873051 |   BWBSwk   | 1241010.3799999978 |  0.003105596522409962 |          0.0           |          0.0           | 0.0036656467232085935 |\n",
       "|     Coniferous    |        None        |      ESSF     |      mv     | 2217108.686873051 |   ESSFmv   | 1241010.3799999978 |          0.0          |          0.0           |          0.0           | 0.0005757409333374459 |\n",
       "|     Coniferous    |        None        |      ESSF     |     mvp     | 2217108.686873051 |  ESSFmvp   | 1241010.3799999978 |          0.0          |          0.0           |          0.0           |  0.003638130617104238 |\n",
       "|     Coniferous    |        None        |      SWB      |      mk     | 2217108.686873051 |   SWBmk    | 1241010.3799999978 |          0.0          |          0.0           |          0.0           |  0.009069923324026188 |\n",
       "|     Coniferous    |        None        |      SWB      |     mks     | 2217108.686873051 |   SWBmks   | 1241010.3799999978 | 0.0009611128717987627 |          0.0           |          0.0           |  0.08552729963741976  |\n",
       "|     Deciduous     |        High        |      BWBS     |      mk     | 2217108.686873051 |   BWBSmk   | 1241010.3799999978 |   0.6275461068319123  |   0.7571477171915348   |   0.9482830392872278   |   0.7505997654652502  |\n",
       "|     Deciduous     |        High        |      BWBS     |      mw     | 2217108.686873051 |   BWBSmw   | 1241010.3799999978 |   0.7198401721782202  |   0.7049267391622387   |   0.5932431193781943   |   0.5917069191393204  |\n",
       "|     Deciduous     |        High        |      BWBS     |      wk     | 2217108.686873051 |   BWBSwk   | 1241010.3799999978 |  0.03271443979066315  |  0.041064441606459105  |  0.029985940118050725  |  0.023020438371298885 |\n",
       "|     Deciduous     |        Low         |      BWBS     |      mk     | 2217108.686873051 |   BWBSmk   | 1241010.3799999978 |  0.48136641403748553  |   0.5541890621321659   |   0.8455826534045824   |   0.6702861519517382  |\n",
       "|     Deciduous     |        Low         |      BWBS     |      mw     | 2217108.686873051 |   BWBSmw   | 1241010.3799999978 |   0.8267360956301756  |   0.5937434502969354   |   0.5068132087526754   |   0.6441970051279685  |\n",
       "|     Deciduous     |        Low         |      BWBS     |      wk     | 2217108.686873051 |   BWBSwk   | 1241010.3799999978 |   0.0766914851414279  |  0.09532131134730042   |  0.21407213911919834   |   0.1823063331972243  |\n",
       "|     Deciduous     |        Low         |      ESSF     |      mv     | 2217108.686873051 |   ESSFmv   | 1241010.3799999978 |          0.0          |          0.0           |  0.001030799036856978  | 0.0008967608081097262 |\n",
       "|     Deciduous     |        Low         |      SWB      |      mk     | 2217108.686873051 |   SWBmk    | 1241010.3799999978 | 0.0002923058431288438 | 0.00039927794286535753 |  0.04116179298041576   |  0.037983530894291566 |\n",
       "|     Deciduous     |        Low         |      SWB      |     mks     | 2217108.686873051 |   SWBmks   | 1241010.3799999978 |          0.0          |          0.0           |          0.0           | 5.881887243862186e-05 |\n",
       "|     Deciduous     |       Medium       |      BWBS     |      mk     | 2217108.686873051 |   BWBSmk   | 1241010.3799999978 |   4.304869191970191   |   5.0772970761967455   |   5.941816445018297    |   4.731691557950161   |\n",
       "|     Deciduous     |       Medium       |      BWBS     |      mw     | 2217108.686873051 |   BWBSmw   | 1241010.3799999978 |   10.57226611447727   |    9.25918547296528    |   8.235103698955898    |   9.066146127475891   |\n",
       "|     Deciduous     |       Medium       |      BWBS     |      wk     | 2217108.686873051 |   BWBSwk   | 1241010.3799999978 |   1.1955390218406337  |   1.4714129735578312   |   1.435697206597838    |   1.1448164322395062  |\n",
       "+-------------------+--------------------+---------------+-------------+-------------------+------------+--------------------+-----------------------+------------------------+------------------------+-----------------------+\n",
       "Truncated to displaylimit of 40."
      ]
     },
     "execution_count": 79,
     "metadata": {},
     "output_type": "execute_result"
    }
   ],
   "source": [
    "%%sql\n",
    "# conn.sql(\"\"\"\n",
    "SELECT \n",
    "    STAND_TYPE_25 as \"Stand Composition\", \n",
    "    prod_bin as \"Productivity Class\", \n",
    "    BEC_ZONE_CODE, BEC_SUBZONE,\n",
    "    SUM(SUM(POLYGON_AREA)) OVER () as StudyAREA,\n",
    "    CONCAT(BEC_ZONE_CODE, BEC_SUBZONE) as \"BEC String\",\n",
    "    SUM(SUM(IF(priority_WMB == 1, POLYGON_AREA, 0.0))) OVER () as totalWMB,\n",
    "    (100.0 * \n",
    "            SUM(IF(priority_WMB == 1, POLYGON_AREA, 0.0)) / \n",
    "            SUM(SUM(IF(priority_WMB == 1, POLYGON_AREA, 0.0))) OVER ()\n",
    "        ) AS \"% of WMB Area\",\n",
    "    (100.0 * \n",
    "            SUM(IF(priority_WMB == 1, aflb_fact * POLYGON_AREA, 0.0)) / \n",
    "            SUM(SUM(IF(priority_WMB == 1, aflb_fact * POLYGON_AREA, 0.0))) OVER ()\n",
    "        ) AS \"% AFLB in WMB Area\",\n",
    "    (100.0 * SUM(aflb_fact * POLYGON_AREA) /\n",
    "            SUM(SUM(aflb_fact * POLYGON_AREA)) OVER ()\n",
    "        ) AS \"% AFLB in Study Area\",\n",
    "    (100.0 * SUM(POLYGON_AREA) / SUM(SUM(POLYGON_AREA)) OVER ()) AS \"% of Study Area\"\n",
    "from vri_wmb_v \n",
    "    GROUP BY STAND_TYPE_25, prod_bin, BEC_ZONE_CODE, BEC_SUBZONE, \"BEC String\"\n",
    "    ORDER BY STAND_TYPE_25, prod_bin, \"BEC String\"\n",
    "# \"\"\").to_csv('Prod_BEC-WMB_AFLB.csv')"
   ]
  },
  {
   "cell_type": "code",
   "execution_count": 35,
   "metadata": {},
   "outputs": [
    {
     "data": {
      "text/plain": [
       "<sql.ggplot.ggplot.ggplot at 0x269eeb4c710>"
      ]
     },
     "execution_count": 35,
     "metadata": {},
     "output_type": "execute_result"
    },
    {
     "data": {
      "image/png": "[encoded data removed]",
      "text/plain": [
       "<Figure size 640x480 with 1 Axes>"
      ]
     },
     "metadata": {},
     "output_type": "display_data"
    }
   ],
   "source": [
    "(ggplot(\"vri\", aes(x=\"SITE_INDEX\")) + geom_histogram(bins=30, fill=\"CONCAT(BEC_ZONE_CODE, BEC_SUBZONE)\", cmap='viridis_r'))\n",
    "# same disclaimer as above - this shows polygon count not area."
   ]
  },
  {
   "cell_type": "code",
   "execution_count": 4,
   "metadata": {},
   "outputs": [],
   "source": [
    "import geopandas as gpd"
   ]
  },
  {
   "cell_type": "code",
   "execution_count": null,
   "metadata": {},
   "outputs": [],
   "source": [
    "gdf = conn.sql(\"select ST_AsText(geom) as geometry, STAND_TYPE_25, prod_bin, POLYGON_AREA from vri where ST_IsValid(geom) == TRUE\").to_df()\n",
    "gdf['geometry'] = gpd.GeoSeries.from_wkt(gdf['geometry'])\n",
    "gdf = gpd.GeoDataFrame(gdf)\n",
    "\n",
    "gdf = gdf.dissolve(by=['STAND_TYPE_25', 'prod_bin'], aggfunc='sum')"
   ]
  },
  {
   "cell_type": "code",
   "execution_count": 15,
   "metadata": {},
   "outputs": [
    {
     "data": {
      "text/plain": [
       "<Axes: >"
      ]
     },
     "execution_count": 15,
     "metadata": {},
     "output_type": "execute_result"
    },
    {
     "data": {
      "image/png": "[encoded data removed]",
      "text/plain": [
       "<Figure size 640x480 with 1 Axes>"
      ]
     },
     "metadata": {},
     "output_type": "display_data"
    }
   ],
   "source": [
    "gdf.simplify(1000).reset_index().plot(column='prod_bin')"
   ]
  },
  {
   "cell_type": "code",
   "execution_count": 16,
   "metadata": {},
   "outputs": [],
   "source": [
    "outfile=r'\\\\spatialfiles2.bcgov\\work\\FOR\\RNI\\DPC\\General_User_Data\\nross\\BRFN_NE_LUPCE_Analysis\\VRI_ProdBins_sim100\\dissolved100.shp'\n",
    "gdf.reset_index().simplify(100).to_file(outfile)"
   ]
  },
  {
   "cell_type": "code",
   "execution_count": 8,
   "metadata": {},
   "outputs": [],
   "source": [
    "conn.close()"
   ]
  }
 ],
 "metadata": {
  "kernelspec": {
   "display_name": "base",
   "language": "python",
   "name": "python3"
  },
  "language_info": {
   "codemirror_mode": {
    "name": "ipython",
    "version": 3
   },
   "file_extension": ".py",
   "mimetype": "text/x-python",
   "name": "python",
   "nbconvert_exporter": "python",
   "pygments_lexer": "ipython3",
   "version": "3.11.7"
  }
 },
 "nbformat": 4,
 "nbformat_minor": 2
}
